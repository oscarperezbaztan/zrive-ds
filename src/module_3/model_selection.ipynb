{
 "cells": [
  {
   "cell_type": "markdown",
   "metadata": {},
   "source": [
    "<h1 align=\"center\">Model selection</h1>"
   ]
  },
  {
   "cell_type": "markdown",
   "metadata": {},
   "source": [
    "Libraries"
   ]
  },
  {
   "cell_type": "code",
   "execution_count": 1,
   "metadata": {},
   "outputs": [],
   "source": [
    "import pandas as pd\n",
    "import numpy as np\n",
    "from sklearn.model_selection import train_test_split\n",
    "from sklearn.pipeline import Pipeline\n",
    "from sklearn.preprocessing import  StandardScaler\n",
    "from sklearn.linear_model import LogisticRegression\n",
    "from sklearn.model_selection import GridSearchCV\n",
    "from sklearn.compose import ColumnTransformer\n",
    "import category_encoders as ce\n",
    "from sklearn.model_selection import StratifiedKFold\n",
    "import matplotlib.pyplot as plt\n",
    "from datetime import timedelta\n",
    "from sklearn.model_selection import PredefinedSplit\n",
    "import pyarrow.parquet as pq\n",
    "from sklearn import metrics\n",
    "from sklearn.metrics import roc_auc_score, confusion_matrix\n"
   ]
  },
  {
   "cell_type": "markdown",
   "metadata": {},
   "source": [
    "<h2 style=\"text-align: left;\">Understanding the problem</h2>\n"
   ]
  },
  {
   "cell_type": "markdown",
   "metadata": {},
   "source": [
    "Download data"
   ]
  },
  {
   "cell_type": "code",
   "execution_count": 2,
   "metadata": {},
   "outputs": [
    {
     "data": {
      "text/plain": [
       "(2880549, 27)"
      ]
     },
     "execution_count": 2,
     "metadata": {},
     "output_type": "execute_result"
    }
   ],
   "source": [
    "parquet_file_path = '/home/oscar/data/feature_frame.parquet'\n",
    "data = pq.read_table(parquet_file_path).to_pandas()\n",
    "data.shape"
   ]
  },
  {
   "cell_type": "code",
   "execution_count": 4,
   "metadata": {},
   "outputs": [
    {
     "name": "stdout",
     "output_type": "stream",
     "text": [
      "Tamaño del conjunto de datos original: (1438257, 27)\n",
      "Tamaño del conjunto de datos muestreado: (1440295, 27)\n"
     ]
    }
   ],
   "source": [
    "order_ids = data['order_id'].unique()\n",
    "porcentaje_muestra = 0.5  \n",
    "\n",
    "cantidad_pedidos_muestra = int(len(order_ids) * porcentaje_muestra)\n",
    "\n",
    "pedidos_muestra = np.random.choice(order_ids, size=cantidad_pedidos_muestra, replace=False)\n",
    "\n",
    "data_muestreada = data[data['order_id'].isin(pedidos_muestra)]\n",
    "\n",
    "print(\"Tamaño del conjunto de datos original:\", data.shape)\n",
    "print(\"Tamaño del conjunto de datos muestreado:\", data_muestreada.shape)"
   ]
  },
  {
   "cell_type": "code",
   "execution_count": null,
   "metadata": {},
   "outputs": [],
   "source": []
  },
  {
   "cell_type": "markdown",
   "metadata": {},
   "source": [
    "Firstly, we have to select those orders which contain at least 5 items, so we can filter the Data Frame owing to this specification. "
   ]
  },
  {
   "cell_type": "code",
   "execution_count": 5,
   "metadata": {},
   "outputs": [
    {
     "name": "stdout",
     "output_type": "stream",
     "text": [
      "Number of total orders: 1723\n",
      "Number of orders with more than 5 products: 1324\n"
     ]
    }
   ],
   "source": [
    "num_products_ordered = data.groupby('order_id')['outcome'].sum()\n",
    "orders_with_5_or_more_unique_products = num_products_ordered[num_products_ordered>=5].index\n",
    "\n",
    "filtered_data = data[data['order_id'].isin(orders_with_5_or_more_unique_products)]\n",
    "\n",
    "print(f\"Number of total orders: {data['order_id'].nunique()}\")\n",
    "print(f\"Number of orders with more than 5 products: {filtered_data['order_id'].nunique()}\")"
   ]
  },
  {
   "cell_type": "markdown",
   "metadata": {},
   "source": [
    "<h2 style=\"text-align: left;\">Feature Selection</h2>"
   ]
  },
  {
   "cell_type": "code",
   "execution_count": 6,
   "metadata": {},
   "outputs": [],
   "source": [
    "target = ['outcome']\n",
    "id_features = ['variant_id', 'order_id', 'user_id']\n",
    "temporal_features = ['created_at', 'order_date']\n",
    "binary_features = ['ordered_before', 'abandoned_before', 'active_snoozed', 'set_as_regular']\n",
    "categorical_features = ['product_type', 'vendor'] \n",
    "non_numerical_features = target + id_features+ temporal_features + categorical_features\n",
    "\n",
    "numerical_features = [feature for feature in filtered_data.columns if feature not in non_numerical_features]"
   ]
  },
  {
   "cell_type": "markdown",
   "metadata": {},
   "source": [
    "**IDENTIFICATION FEATURES**"
   ]
  },
  {
   "cell_type": "markdown",
   "metadata": {},
   "source": [
    "The identifying variables, order_id, user_id, and variant_id, serve to uniquely identify orders, users, and variants in the dataset. However, they do not possess any predictive power regarding the outcome of interest. Therefore, these identifying variables will not appear in the final dataset used for predictive modeling or analysis. "
   ]
  },
  {
   "cell_type": "code",
   "execution_count": 7,
   "metadata": {},
   "outputs": [],
   "source": [
    "features_to_remove = id_features"
   ]
  },
  {
   "cell_type": "markdown",
   "metadata": {},
   "source": [
    "**TEMPORAL FEATURES**"
   ]
  },
  {
   "cell_type": "markdown",
   "metadata": {},
   "source": [
    "In the \"temporal_features\" section, it's noted that the two temporal variables are of type \"object.\" This observation is crucial because it highlights that these variables are stored as strings rather than datetime objects. It's essential to keep this in mind when reading the dataset to ensure proper conversion into the datetime format.\n",
    "\n",
    "Converting these variables into the datetime format is important for several reasons, particularly when performing tasks such as time series analysis, feature engineering, or data splitting into training and testing sets."
   ]
  },
  {
   "cell_type": "code",
   "execution_count": 8,
   "metadata": {},
   "outputs": [],
   "source": [
    "filtered_data.loc[:,'order_date'] = pd.to_datetime(filtered_data.loc[:,'order_date'])\n",
    "filtered_data.loc[:,'created_at'] = pd.to_datetime(filtered_data.loc[:,'created_at'])"
   ]
  },
  {
   "cell_type": "markdown",
   "metadata": {},
   "source": [
    "There features represent essentially the same information, where 'order_date' and 'created_at' both capture temporal data. However, 'created_at' includes the time component in addition to the date, while 'order_date' only represents the date without the time."
   ]
  },
  {
   "cell_type": "code",
   "execution_count": 9,
   "metadata": {},
   "outputs": [
    {
     "name": "stdout",
     "output_type": "stream",
     "text": [
      "['variant_id', 'order_id', 'user_id', 'created_at']\n"
     ]
    }
   ],
   "source": [
    "features_to_remove.append('created_at')\n",
    "print(features_to_remove)"
   ]
  },
  {
   "cell_type": "markdown",
   "metadata": {},
   "source": [
    "**BINARY FEATURES**"
   ]
  },
  {
   "cell_type": "markdown",
   "metadata": {},
   "source": [
    "We initially considered aggregating these binary variables in some way, but it has been observed that they are not highly correlated with each other. Moreover, some individual variables, such as 'abandoned_before,' exhibit significant importance on their own for predicting the response variable."
   ]
  },
  {
   "cell_type": "code",
   "execution_count": 10,
   "metadata": {},
   "outputs": [
    {
     "name": "stdout",
     "output_type": "stream",
     "text": [
      "abandoned_before\n",
      "0.0     1.413758\n",
      "1.0    77.851459\n",
      "Name: outcome, dtype: float64\n"
     ]
    }
   ],
   "source": [
    "print(filtered_data.groupby('abandoned_before')['outcome'].mean() * 100)"
   ]
  },
  {
   "cell_type": "markdown",
   "metadata": {},
   "source": [
    "When 'abandoned_before' is 0.0, indicating that the customer has not abandoned an order before, the mean purchase rate is approximately 1.39%. Conversely, when 'abandoned_before' is 1.0, indicating that the customer has previously abandoned an order, the mean purchase rate drastically increases to approximately 75.08%. This substantial difference in purchase rates suggests that the 'abandoned_before' variable holds considerable predictive power on its own in determining the likelihood of purchase."
   ]
  },
  {
   "cell_type": "code",
   "execution_count": 11,
   "metadata": {},
   "outputs": [
    {
     "name": "stdout",
     "output_type": "stream",
     "text": [
      "Correlation Matrix between binary features:\n",
      "                  ordered_before  abandoned_before  active_snoozed  \\\n",
      "ordered_before          1.000000          0.042620        0.258481   \n",
      "abandoned_before        0.042620          1.000000        0.009137   \n",
      "active_snoozed          0.258481          0.009137        1.000000   \n",
      "set_as_regular          0.292770          0.032622        0.073649   \n",
      "\n",
      "                  set_as_regular  \n",
      "ordered_before          0.292770  \n",
      "abandoned_before        0.032622  \n",
      "active_snoozed          0.073649  \n",
      "set_as_regular          1.000000  \n"
     ]
    }
   ],
   "source": [
    "print(\"Correlation Matrix between binary features:\")\n",
    "print(filtered_data[binary_features].corr())"
   ]
  },
  {
   "cell_type": "markdown",
   "metadata": {},
   "source": [
    "**CATEGORICAL FEATURES**"
   ]
  },
  {
   "cell_type": "markdown",
   "metadata": {},
   "source": [
    "The initial intention is to encode these variables by frequency. However, it's not feasible to perform this encoding directly on the initial dataset. Instead, it must be done separately for each split. This approach is necessary to prevent data leakage or contamination between the splits, which could lead to an overly optimistic estimation of model performance."
   ]
  },
  {
   "cell_type": "markdown",
   "metadata": {},
   "source": [
    "**NUMERICAL FEATURES**"
   ]
  },
  {
   "cell_type": "markdown",
   "metadata": {},
   "source": [
    "The correlation matrices provide insights into linear relationships between variables, but it's important to note that non-linear relationships may exist, which are not captured by these matrices. Given this context, observing the correlation matrix provided, we can make several observations:\n",
    "\n",
    "* The variables \"avg_days_to_buy_variant_id\" and \"std_days_to_buy_variant_id\" show moderate correlation with \"days_since_purchase_variant_id.\"\n",
    "\n",
    "* The variable \"days_since_purchase_product_type\" displays moderate correlation with \"days_since_purchase_variant_id.\" \n",
    "\n",
    "* The variable \"avg_days_to_buy_product_type\" exhibits moderate correlation with \"avg_days_to_buy_variant_id\" and \"std_days_to_buy_variant_id.\" \n",
    "\n",
    "Despite these observations, it's essential to remember that correlation matrices do not capture all relationships between variables, especially non-linear ones. Therefore, no variables will be eliminated at this point due to the possibility of non-linear relationships not reflected in these matrices."
   ]
  },
  {
   "cell_type": "code",
   "execution_count": 12,
   "metadata": {},
   "outputs": [
    {
     "name": "stdout",
     "output_type": "stream",
     "text": [
      "                                  days_since_purchase_variant_id  \\\n",
      "days_since_purchase_variant_id                          1.000000   \n",
      "avg_days_to_buy_variant_id                              0.024631   \n",
      "std_days_to_buy_variant_id                              0.028232   \n",
      "days_since_purchase_product_type                        0.211069   \n",
      "avg_days_to_buy_product_type                            0.007735   \n",
      "std_days_to_buy_product_type                            0.008522   \n",
      "outcome                                                 0.031977   \n",
      "\n",
      "                                  avg_days_to_buy_variant_id  \\\n",
      "days_since_purchase_variant_id                      0.024631   \n",
      "avg_days_to_buy_variant_id                          1.000000   \n",
      "std_days_to_buy_variant_id                          0.597947   \n",
      "days_since_purchase_product_type                    0.001599   \n",
      "avg_days_to_buy_product_type                        0.291157   \n",
      "std_days_to_buy_product_type                        0.250001   \n",
      "outcome                                            -0.021504   \n",
      "\n",
      "                                  std_days_to_buy_variant_id  \\\n",
      "days_since_purchase_variant_id                      0.028232   \n",
      "avg_days_to_buy_variant_id                          0.597947   \n",
      "std_days_to_buy_variant_id                          1.000000   \n",
      "days_since_purchase_product_type                    0.000911   \n",
      "avg_days_to_buy_product_type                        0.223238   \n",
      "std_days_to_buy_product_type                        0.255630   \n",
      "outcome                                            -0.010019   \n",
      "\n",
      "                                  days_since_purchase_product_type  \\\n",
      "days_since_purchase_variant_id                            0.211069   \n",
      "avg_days_to_buy_variant_id                                0.001599   \n",
      "std_days_to_buy_variant_id                                0.000911   \n",
      "days_since_purchase_product_type                          1.000000   \n",
      "avg_days_to_buy_product_type                              0.018691   \n",
      "std_days_to_buy_product_type                              0.020313   \n",
      "outcome                                                   0.013197   \n",
      "\n",
      "                                  avg_days_to_buy_product_type  \\\n",
      "days_since_purchase_variant_id                        0.007735   \n",
      "avg_days_to_buy_variant_id                            0.291157   \n",
      "std_days_to_buy_variant_id                            0.223238   \n",
      "days_since_purchase_product_type                      0.018691   \n",
      "avg_days_to_buy_product_type                          1.000000   \n",
      "std_days_to_buy_product_type                          0.837211   \n",
      "outcome                                              -0.016645   \n",
      "\n",
      "                                  std_days_to_buy_product_type   outcome  \n",
      "days_since_purchase_variant_id                        0.008522  0.031977  \n",
      "avg_days_to_buy_variant_id                            0.250001 -0.021504  \n",
      "std_days_to_buy_variant_id                            0.255630 -0.010019  \n",
      "days_since_purchase_product_type                      0.020313  0.013197  \n",
      "avg_days_to_buy_product_type                          0.837211 -0.016645  \n",
      "std_days_to_buy_product_type                          1.000000 -0.011256  \n",
      "outcome                                              -0.011256  1.000000  \n"
     ]
    }
   ],
   "source": [
    "print(filtered_data[[\n",
    "    'days_since_purchase_variant_id',\n",
    "    'avg_days_to_buy_variant_id',\n",
    "    'std_days_to_buy_variant_id',\n",
    "    'days_since_purchase_product_type',\n",
    "    'avg_days_to_buy_product_type',\n",
    "    'std_days_to_buy_product_type',\n",
    "    'outcome'\n",
    "]].corr())"
   ]
  },
  {
   "cell_type": "markdown",
   "metadata": {},
   "source": [
    "Variables related to family members were likely imputed mostly with the median, as observed in the exploratory data analysis (EDA). However, due to this imputation strategy, they may introduce more noise than information into the dataset. Therefore, they will not be used in the analysis."
   ]
  },
  {
   "cell_type": "code",
   "execution_count": 13,
   "metadata": {},
   "outputs": [
    {
     "name": "stdout",
     "output_type": "stream",
     "text": [
      "['variant_id', 'order_id', 'user_id', 'created_at', 'count_adults', 'count_children', 'count_babies', 'count_pets', 'people_ex_baby']\n"
     ]
    }
   ],
   "source": [
    "features_to_remove.extend(['count_adults', 'count_children', 'count_babies', 'count_pets', 'people_ex_baby'])\n",
    "print(features_to_remove)"
   ]
  },
  {
   "cell_type": "markdown",
   "metadata": {},
   "source": [
    "**FINAL DATA**"
   ]
  },
  {
   "cell_type": "code",
   "execution_count": 14,
   "metadata": {},
   "outputs": [],
   "source": [
    "final_data = filtered_data.drop(features_to_remove, axis=1)"
   ]
  },
  {
   "cell_type": "markdown",
   "metadata": {},
   "source": [
    "<h2 style=\"text-align: left;\">Getting training, validation and testing</h2>"
   ]
  },
  {
   "cell_type": "markdown",
   "metadata": {},
   "source": [
    "**INITIAL SPLITTING**"
   ]
  },
  {
   "cell_type": "markdown",
   "metadata": {},
   "source": [
    "In order to avoid information leakage, we must consider several key factors:\n",
    "* We have to ensure that the same 'user_id' does not appear in both the training and testing datasets is crucial. This can lead to data leakage, compromisiing the integrity of the evaluation.\n",
    "* It's essential to mantain the assumption that the training and testing datasets are independentrly and identically distributed to ensure the model's performance on the test data accurately reflexts its ability to generalize to unseen data"
   ]
  },
  {
   "cell_type": "markdown",
   "metadata": {},
   "source": [
    "As we have **an imbalanced dataset**, we'll split the dataset into training and testing sets using **stratification**, and based on avoiding information leakage by user."
   ]
  },
  {
   "cell_type": "code",
   "execution_count": 13,
   "metadata": {},
   "outputs": [],
   "source": [
    "unique_users = data['user_id'].unique()\n",
    "train_users, test_users = train_test_split(unique_users, test_size=0.2)"
   ]
  },
  {
   "cell_type": "code",
   "execution_count": 14,
   "metadata": {},
   "outputs": [],
   "source": [
    "train_data = data[data['user_id'].isin(train_users)]\n",
    "test_data = data[data['user_id'].isin(test_users)]"
   ]
  },
  {
   "cell_type": "code",
   "execution_count": 15,
   "metadata": {},
   "outputs": [],
   "source": [
    "X_train = train_data.drop('outcome', axis=1)\n",
    "y_train = train_data['outcome']\n",
    "\n",
    "X_test = test_data.drop('outcome', axis=1)\n",
    "y_test = test_data['outcome']"
   ]
  },
  {
   "cell_type": "code",
   "execution_count": 16,
   "metadata": {},
   "outputs": [
    {
     "name": "stdout",
     "output_type": "stream",
     "text": [
      "Train set size: 0.7969782843478795\n",
      "Test set size: 0.2030217156521205\n"
     ]
    }
   ],
   "source": [
    "print(\"Train set size:\", len(train_data)/(len(train_data)+len(test_data)))\n",
    "print(\"Test set size:\", len(test_data)/(len(train_data)+len(test_data)))"
   ]
  },
  {
   "cell_type": "markdown",
   "metadata": {},
   "source": [
    "Overall, the proportion of examples for each class is maintained well between the train and test sets. Despite the class imbalance, the proportion remains consistent across both sets. This suggests that stratifying the data during the train-test split may not be necessary in this case, as the imbalance is preserved in both sets without intervention. However, it's important to note that this imbalance might affect the performance of some classifiers, and strategies such as oversampling or undersampling of the minority class may be considered to address this issue."
   ]
  },
  {
   "cell_type": "code",
   "execution_count": 17,
   "metadata": {},
   "outputs": [
    {
     "name": "stdout",
     "output_type": "stream",
     "text": [
      "Percentage of examples for each class in train set:\n",
      "outcome\n",
      "0.0    98.842506\n",
      "1.0     1.157494\n",
      "Name: proportion, dtype: float64\n",
      "\n",
      "Percentage of examples for each class in test set:\n",
      "outcome\n",
      "0.0    98.861347\n",
      "1.0     1.138653\n",
      "Name: proportion, dtype: float64\n"
     ]
    }
   ],
   "source": [
    "train_class_percentages = train_data['outcome'].value_counts(normalize=True) * 100\n",
    "test_class_percentages = test_data['outcome'].value_counts(normalize=True) * 100\n",
    "\n",
    "print(\"Percentage of examples for each class in train set:\")\n",
    "print(train_class_percentages)\n",
    "print(\"\\nPercentage of examples for each class in test set:\")\n",
    "print(test_class_percentages)"
   ]
  },
  {
   "cell_type": "markdown",
   "metadata": {},
   "source": [
    "The approach described above was a way to split the data without considering the temporal reference. Initially, I assumed that temporal information might not be crucial as there was already data available on the days since the last purchase, etc. However, upon further consideration, I realized the importance of incorporating temporal information into the data splitting process.\n",
    "\n",
    "To address this, I devised another approach for splitting the data based on this temporal reference. This new approach involves dividing the dataset into training and testing sets while ensuring that the temporal sequence is preserved. By doing so, we aim to account for any temporal dependencies or patterns in the data, which may be critical for accurately modeling and predicting future outcomes."
   ]
  },
  {
   "cell_type": "markdown",
   "metadata": {},
   "source": [
    "**NEW SPLITTING**"
   ]
  },
  {
   "cell_type": "markdown",
   "metadata": {},
   "source": [
    "When separating data, it's crucial to consider the date on which orders are placed for several reasons. Firstly, the temporal aspect provides valuable insights into patterns and trends over time, which can significantly impact the performance of predictive models. By incorporating temporal information into the data splitting process, we ensure that the training data represents past observations, while the testing or validation data represents future observations, mimicking real-world scenarios.\n",
    "\n",
    "Moreover, not considering the date of orders can lead to a phenomenon known as data leakage. Data leakage occurs when information from the future or unseen data is inadvertently included in the training process, leading to overly optimistic performance estimates of the model. In the context of order data, if future information, such as orders placed after a certain date, is included in the training set, the model may learn patterns that do not generalize well to unseen data, resulting in poor model performance when deployed in production."
   ]
  },
  {
   "cell_type": "code",
   "execution_count": 15,
   "metadata": {},
   "outputs": [
    {
     "data": {
      "image/png": "[encoded data removed]",
      "text/plain": [
       "<Figure size 1000x600 with 1 Axes>"
      ]
     },
     "metadata": {},
     "output_type": "display_data"
    }
   ],
   "source": [
    "daily_orders = final_data.groupby('order_date').count()\n",
    "plt.figure(figsize=(10, 6)) \n",
    "plt.plot(daily_orders, marker='o', linestyle='-')  \n",
    "plt.title('Daily Orders')  \n",
    "plt.xlabel('Date')  \n",
    "plt.ylabel('Number of Orders')\n",
    "plt.grid(True) \n",
    "plt.show()"
   ]
  },
  {
   "cell_type": "markdown",
   "metadata": {},
   "source": [
    "Firstly, we should conduct research regarding date information:"
   ]
  },
  {
   "cell_type": "code",
   "execution_count": 16,
   "metadata": {},
   "outputs": [
    {
     "name": "stdout",
     "output_type": "stream",
     "text": [
      "Minimum order date: 2020-10-05 00:00:00\n",
      "Maximum order date: 2021-03-03 00:00:00\n"
     ]
    }
   ],
   "source": [
    "print(\"Minimum order date:\", final_data['order_date'].min())\n",
    "print(\"Maximum order date:\", final_data['order_date'].max())"
   ]
  },
  {
   "cell_type": "markdown",
   "metadata": {},
   "source": [
    "The criterion followed for the separation is based on allocating 10 days for validation and 10 days for testing, while the remaining days are designated for training. This approach considers that there are more orders in the later dates, aiming to maintain a temporal relationship among the train-validation-test sets to prevent information contamination.\n",
    "\n",
    "By adhering to this temporal relationship, we ensure that the data used for training comes from an earlier period than the data used for validation and testing. This prevents the model from learning patterns specific to the validation and testing data, thus promoting its ability to generalize to unseen data effectively. Additionally, allocating a larger portion of data to training ensures that the model learns from a diverse range of examples, enhancing its overall performance and robustness."
   ]
  },
  {
   "cell_type": "code",
   "execution_count": 17,
   "metadata": {},
   "outputs": [
    {
     "name": "stdout",
     "output_type": "stream",
     "text": [
      "Training set size: 0.7226797503333678\n",
      "Validation set size: 0.12802327844815198\n",
      "Testing set size: 0.13598863365551317\n"
     ]
    }
   ],
   "source": [
    "final_data_sorted = final_data.sort_values(by='order_date')\n",
    "\n",
    "total_days = len(daily_orders)\n",
    "validation_days = 10\n",
    "testing_days = 10\n",
    "training_days = total_days - validation_days - testing_days\n",
    "\n",
    "train_start = daily_orders.index.min()\n",
    "train_end = train_start + timedelta(days=training_days)\n",
    "\n",
    "val_start = train_end\n",
    "val_end = val_start + timedelta(days=validation_days)\n",
    "\n",
    "test_start = val_end\n",
    "test_end = test_start + timedelta(days=testing_days)\n",
    "\n",
    "train_data = final_data_sorted[(final_data_sorted['order_date'] >= train_start) & (final_data_sorted['order_date'] < train_end)]\n",
    "val_data = final_data_sorted[(final_data_sorted['order_date'] >= val_start) & (final_data_sorted['order_date'] < val_end)]\n",
    "test_data = final_data_sorted[(final_data_sorted['order_date'] >= test_start) & (final_data_sorted['order_date'] < test_end)]\n",
    "\n",
    "\n",
    "print(\"Training set size:\", (len(train_data)/len(final_data_sorted)))\n",
    "print(\"Validation set size:\", (len(val_data)/len(final_data_sorted)))\n",
    "print(\"Testing set size:\", (len(test_data)/len(final_data_sorted)))"
   ]
  },
  {
   "cell_type": "markdown",
   "metadata": {},
   "source": [
    "**Possible issue**: What if I have a user who makes purchases in both the training and testing sets? Will the model learn from that user? Is there a risk of data leakage?"
   ]
  },
  {
   "cell_type": "code",
   "execution_count": 18,
   "metadata": {},
   "outputs": [],
   "source": [
    "X_train = train_data.drop(columns=['outcome', 'order_date'])\n",
    "y_train = train_data['outcome']\n",
    "\n",
    "X_val = val_data.drop(columns=['outcome', 'order_date'])\n",
    "y_val = val_data['outcome']\n",
    "\n",
    "X_test = test_data.drop(columns=['outcome', 'order_date'])\n",
    "y_test = test_data['outcome']"
   ]
  },
  {
   "cell_type": "markdown",
   "metadata": {},
   "source": [
    "<h2 style=\"text-align: left;\">Data training</h2>"
   ]
  },
  {
   "cell_type": "code",
   "execution_count": 19,
   "metadata": {},
   "outputs": [],
   "source": [
    "score = metrics.make_scorer(metrics.average_precision_score, greater_is_better=True)"
   ]
  },
  {
   "cell_type": "code",
   "execution_count": 20,
   "metadata": {},
   "outputs": [
    {
     "ename": "",
     "evalue": "",
     "output_type": "error",
     "traceback": [
      "\u001b[1;31mThe Kernel crashed while executing code in the current cell or a previous cell. \n",
      "\u001b[1;31mPlease review the code in the cell(s) to identify a possible cause of the failure. \n",
      "\u001b[1;31mClick <a href='https://aka.ms/vscodeJupyterKernelCrash'>here</a> for more info. \n",
      "\u001b[1;31mView Jupyter <a href='command:jupyter.viewOutput'>log</a> for further details."
     ]
    }
   ],
   "source": [
    "columns_to_encode = categorical_features\n",
    "\n",
    "column_transformer = ColumnTransformer(\n",
    "    transformers=[\n",
    "        ('encoder', ce.CountEncoder(min_group_size=1.0), columns_to_encode)\n",
    "    ],\n",
    "    remainder='passthrough' \n",
    ")\n",
    "\n",
    "pipe = Pipeline([\n",
    "    ('preprocessor', column_transformer),\n",
    "    ('scaler', StandardScaler()),\n",
    "    ('reg', LogisticRegression(solver='newton-cg', C=1.0/1.0))\n",
    "])\n",
    "\n",
    "\n",
    "reg_values = np.geomspace(0.00001, 1e+4, num=10)\n",
    "parameters = {'reg__C': 1.0/reg_values}\n",
    "\n",
    "gridsearch = GridSearchCV(pipe, parameters,  \n",
    "                          scoring=score, \n",
    "                          return_train_score=True)\n",
    "\n",
    "gridsearch.fit(X_train, y_train)"
   ]
  },
  {
   "cell_type": "code",
   "execution_count": 27,
   "metadata": {},
   "outputs": [
    {
     "name": "stdout",
     "output_type": "stream",
     "text": [
      "          C  mean_train_score  mean_test_score\n",
      "9    0.0001          0.811186         0.821122\n",
      "8     0.001          0.801535         0.814456\n",
      "7      0.01          0.799664         0.813316\n",
      "6       0.1          0.799456         0.813185\n",
      "5       1.0          0.799434         0.813172\n",
      "4      10.0          0.799432         0.813171\n",
      "3     100.0          0.799432         0.813171\n",
      "2    1000.0          0.799432         0.813171\n",
      "1   10000.0          0.799432         0.813171\n",
      "0  100000.0          0.799432         0.813171\n"
     ]
    }
   ],
   "source": [
    "results = pd.DataFrame(gridsearch.cv_results_)\n",
    "results = results[['param_reg__C', 'mean_train_score', 'mean_test_score']]\n",
    "results.rename(columns={'param_reg__C': 'C'}, inplace=True)\n",
    "results.sort_values(by='C', inplace=True)\n",
    "print(results)"
   ]
  },
  {
   "cell_type": "code",
   "execution_count": 28,
   "metadata": {},
   "outputs": [
    {
     "name": "stdout",
     "output_type": "stream",
     "text": [
      "El mejor valor de lambda es: 10000.0\n",
      "El error en validación sería: 0.8211215190443564\n"
     ]
    }
   ],
   "source": [
    "mejor_estimador=gridsearch.best_estimator_\n",
    "print('El mejor valor de lambda es:', 1/mejor_estimador['reg'].C)\n",
    "print('El error en validación sería:',gridsearch.best_score_) "
   ]
  },
  {
   "cell_type": "code",
   "execution_count": null,
   "metadata": {},
   "outputs": [],
   "source": [
    "mejor_estimador=gridsearch.best_estimator_\n",
    "print('El mejor valor de lambda es:', 1/mejor_estimador['reg'].C)\n",
    "print('El error en validación sería:',gridsearch.best_score_) "
   ]
  },
  {
   "cell_type": "markdown",
   "metadata": {},
   "source": [
    "Now, let's examine the different data types present in our dataset. As we observed during the Exploratory Data Analysis (EDA), we identified two categorical variables that require special handling."
   ]
  },
  {
   "cell_type": "code",
   "execution_count": 11,
   "metadata": {},
   "outputs": [
    {
     "name": "stdout",
     "output_type": "stream",
     "text": [
      "['product_type', 'vendor']\n"
     ]
    }
   ],
   "source": [
    "categorical_features = [column for column, dtype in X_train.dtypes.items() if dtype == 'object']\n",
    "print(categorical_features)"
   ]
  },
  {
   "cell_type": "markdown",
   "metadata": {},
   "source": [
    "Tt's crucial to note that when performing encoding, whether it's frequency encoding or target encoding, we cannot apply it to the entire dataset. Doing so would introduce bias in the validation data. Instead, it's essential to apply encoding separately to the training and validation datasets."
   ]
  },
  {
   "cell_type": "markdown",
   "metadata": {},
   "source": []
  },
  {
   "cell_type": "code",
   "execution_count": 13,
   "metadata": {},
   "outputs": [
    {
     "name": "stdout",
     "output_type": "stream",
     "text": [
      "El mejor valor de lambda es: 10000.0\n",
      "El error en validación sería: 0.9869201981069093\n"
     ]
    }
   ],
   "source": [
    "mejor_estimador=gridsearch.best_estimator_\n",
    "print('El mejor valor de lambda es:', 1/mejor_estimador['reg'].C)\n",
    "print('El error en validación sería:',gridsearch.best_score_) "
   ]
  },
  {
   "cell_type": "markdown",
   "metadata": {},
   "source": []
  },
  {
   "cell_type": "code",
   "execution_count": 14,
   "metadata": {},
   "outputs": [
    {
     "data": {
      "text/html": [
       "<div>\n",
       "<style scoped>\n",
       "    .dataframe tbody tr th:only-of-type {\n",
       "        vertical-align: middle;\n",
       "    }\n",
       "\n",
       "    .dataframe tbody tr th {\n",
       "        vertical-align: top;\n",
       "    }\n",
       "\n",
       "    .dataframe thead th {\n",
       "        text-align: right;\n",
       "    }\n",
       "</style>\n",
       "<table border=\"1\" class=\"dataframe\">\n",
       "  <thead>\n",
       "    <tr style=\"text-align: right;\">\n",
       "      <th></th>\n",
       "      <th>params</th>\n",
       "      <th>mean_train_score</th>\n",
       "      <th>mean_test_score</th>\n",
       "    </tr>\n",
       "  </thead>\n",
       "  <tbody>\n",
       "    <tr>\n",
       "      <th>9</th>\n",
       "      <td>{'reg__C': 0.0001}</td>\n",
       "      <td>0.989055</td>\n",
       "      <td>0.986920</td>\n",
       "    </tr>\n",
       "    <tr>\n",
       "      <th>8</th>\n",
       "      <td>{'reg__C': 0.001}</td>\n",
       "      <td>0.989034</td>\n",
       "      <td>0.985979</td>\n",
       "    </tr>\n",
       "    <tr>\n",
       "      <th>7</th>\n",
       "      <td>{'reg__C': 0.01}</td>\n",
       "      <td>0.989028</td>\n",
       "      <td>0.985876</td>\n",
       "    </tr>\n",
       "    <tr>\n",
       "      <th>6</th>\n",
       "      <td>{'reg__C': 0.1}</td>\n",
       "      <td>0.989029</td>\n",
       "      <td>0.985863</td>\n",
       "    </tr>\n",
       "    <tr>\n",
       "      <th>0</th>\n",
       "      <td>{'reg__C': 99999.99999999999}</td>\n",
       "      <td>0.989029</td>\n",
       "      <td>0.985862</td>\n",
       "    </tr>\n",
       "    <tr>\n",
       "      <th>1</th>\n",
       "      <td>{'reg__C': 10000.0}</td>\n",
       "      <td>0.989029</td>\n",
       "      <td>0.985862</td>\n",
       "    </tr>\n",
       "    <tr>\n",
       "      <th>2</th>\n",
       "      <td>{'reg__C': 1000.0}</td>\n",
       "      <td>0.989029</td>\n",
       "      <td>0.985862</td>\n",
       "    </tr>\n",
       "    <tr>\n",
       "      <th>3</th>\n",
       "      <td>{'reg__C': 100.0}</td>\n",
       "      <td>0.989029</td>\n",
       "      <td>0.985862</td>\n",
       "    </tr>\n",
       "    <tr>\n",
       "      <th>4</th>\n",
       "      <td>{'reg__C': 10.0}</td>\n",
       "      <td>0.989029</td>\n",
       "      <td>0.985862</td>\n",
       "    </tr>\n",
       "    <tr>\n",
       "      <th>5</th>\n",
       "      <td>{'reg__C': 1.0}</td>\n",
       "      <td>0.989029</td>\n",
       "      <td>0.985862</td>\n",
       "    </tr>\n",
       "  </tbody>\n",
       "</table>\n",
       "</div>"
      ],
      "text/plain": [
       "                          params  mean_train_score  mean_test_score\n",
       "9             {'reg__C': 0.0001}          0.989055         0.986920\n",
       "8              {'reg__C': 0.001}          0.989034         0.985979\n",
       "7               {'reg__C': 0.01}          0.989028         0.985876\n",
       "6                {'reg__C': 0.1}          0.989029         0.985863\n",
       "0  {'reg__C': 99999.99999999999}          0.989029         0.985862\n",
       "1            {'reg__C': 10000.0}          0.989029         0.985862\n",
       "2             {'reg__C': 1000.0}          0.989029         0.985862\n",
       "3              {'reg__C': 100.0}          0.989029         0.985862\n",
       "4               {'reg__C': 10.0}          0.989029         0.985862\n",
       "5                {'reg__C': 1.0}          0.989029         0.985862"
      ]
     },
     "execution_count": 14,
     "metadata": {},
     "output_type": "execute_result"
    }
   ],
   "source": [
    "df = pd.DataFrame(gridsearch.cv_results_).sort_values('mean_test_score',ascending=False)\n",
    "df[['params', 'mean_train_score', 'mean_test_score']].head(15)"
   ]
  },
  {
   "cell_type": "code",
   "execution_count": 16,
   "metadata": {},
   "outputs": [],
   "source": [
    "import matplotlib.pyplot as plt\n",
    "def plot_validation_curve(train_scores, test_scores, param_range, ax=None, param='Param', score='Score', scale=None):\n",
    "    # Hacemos la media de los errores y sus desviaciones estándar\n",
    "    train_scores_mean = np.mean(-train_scores, axis=1)\n",
    "    train_scores_std = np.std(-train_scores, axis=1)\n",
    "    test_scores_mean = np.mean(-test_scores, axis=1)\n",
    "    test_scores_std = np.std(-test_scores, axis=1)\n",
    "    \n",
    "    if ax is None:\n",
    "        fig, ax = plt.subplots(1, 1, figsize=(8, 6))\n",
    "\n",
    "    ax.set_title(\"Validation Curve\")\n",
    "    ax.set_xlabel(param)\n",
    "    ax.set_ylabel(score)\n",
    "        \n",
    "    lw = 2\n",
    "    if scale is None:\n",
    "        plot_fun = ax.plot\n",
    "    else:\n",
    "        plot_fun = ax.semilogx\n",
    "    plot_fun(param_range, train_scores_mean, label=\"Training score\",\n",
    "                 color=\"darkorange\", lw=lw)\n",
    "    ax.fill_between(param_range, train_scores_mean - train_scores_std,\n",
    "                     train_scores_mean + train_scores_std, alpha=0.2,\n",
    "                     color=\"darkorange\", lw=lw)\n",
    "    plot_fun(param_range, test_scores_mean, label=\"Cross-validation score\",\n",
    "                 color=\"navy\", lw=lw)\n",
    "    ax.fill_between(param_range, test_scores_mean - test_scores_std,\n",
    "                     test_scores_mean + test_scores_std, alpha=0.2,\n",
    "                     color=\"navy\", lw=lw)\n",
    "    ax.legend(loc=\"best\")\n",
    "    \n",
    "    return ax"
   ]
  },
  {
   "cell_type": "code",
   "execution_count": null,
   "metadata": {},
   "outputs": [],
   "source": [
    "from sklearn.model_selection import validation_curve\n",
    "\n",
    "param_range = np.geomspace(0.001, 1e+6, num=9)\n",
    "train_scores, test_scores = validation_curve(\n",
    "    pipe, X, y, param_name=\"reg__C\", param_range=1/param_range, cv=KFold(n_splits=5, shuffle=True),\n",
    "    scoring=\"neg_log_loss\", n_jobs=1)\n",
    "\n",
    "plot_validation_curve(train_scores, test_scores, param_range, param=r'$\\lambda$', score=r'$J(\\theta)$', scale='log')"
   ]
  },
  {
   "cell_type": "markdown",
   "metadata": {},
   "source": []
  },
  {
   "cell_type": "code",
   "execution_count": 29,
   "metadata": {},
   "outputs": [],
   "source": [
    "from sklearn import metrics\n",
    "def evalua_clasificador(clf, X, y):\n",
    "    prediccion = clf.predict(X)\n",
    "    # Calculamos las métricas que tienen en cuenta varias métricas individuales\n",
    "    recall_medio = metrics.roc_auc_score(y, prediccion)*100\n",
    "    cm = metrics.confusion_matrix(y, prediccion, labels=[1,0])\n",
    "    recall = cm[0,0]/cm[0,:].sum()*100\n",
    "    tnr = cm[1,1]/cm[1,:].sum()*100\n",
    "    GM = (recall*tnr)**0.5\n",
    "    fscore = metrics.f1_score(y, prediccion)*100\n",
    "    print('El recall medio por clases es {:.2f}'.format(recall_medio))\n",
    "    print('La media geométrica es {:.2f}'.format(GM))\n",
    "    print('El Fscore es {:.2f}'.format(fscore))"
   ]
  },
  {
   "cell_type": "code",
   "execution_count": 30,
   "metadata": {},
   "outputs": [
    {
     "name": "stdout",
     "output_type": "stream",
     "text": [
      "El recall medio por clases es 52.47\n",
      "La media geométrica es 22.30\n",
      "El Fscore es 9.28\n"
     ]
    }
   ],
   "source": [
    "evalua_clasificador(mejor_estimador, X_test, y_test)"
   ]
  },
  {
   "cell_type": "code",
   "execution_count": 31,
   "metadata": {},
   "outputs": [
    {
     "name": "stdout",
     "output_type": "stream",
     "text": [
      "98.73205344140634\n",
      "[[   199   3802]\n",
      " [    90 302862]]\n"
     ]
    }
   ],
   "source": [
    "prediccion_test = mejor_estimador.predict(X_test)\n",
    "accuracy_test = metrics.accuracy_score(y_test, prediccion_test)*100\n",
    "print(accuracy_test)\n",
    "\n",
    "cm_test = metrics.confusion_matrix(y_test, prediccion_test, labels=[1,0])\n",
    "print(cm_test)"
   ]
  },
  {
   "cell_type": "code",
   "execution_count": 24,
   "metadata": {},
   "outputs": [
    {
     "name": "stdout",
     "output_type": "stream",
     "text": [
      "98.89802977488598\n",
      "[[   1634   24200]\n",
      " [    898 2250825]]\n"
     ]
    }
   ],
   "source": [
    "prediccion_train = mejor_estimador.predict(X_train)\n",
    "accuracy_train = metrics.accuracy_score(y_train, prediccion_train)*100\n",
    "print(accuracy_train)\n",
    "\n",
    "cm_train = metrics.confusion_matrix(y_train, prediccion_train, labels=[1,0])\n",
    "print(cm_train)"
   ]
  },
  {
   "cell_type": "code",
   "execution_count": 20,
   "metadata": {},
   "outputs": [],
   "source": [
    "def muestra_ROC_courve(listaClfs, X, y, labels):\n",
    "    # generamos una predicción sin calidad para la clase positiva (1): todas las predicciones con probabilidad 0\n",
    "    ns_probs = [0 for _ in range(len(y))]\n",
    "    # calculamos el área bajo la curva ROC (método roc_auc_score pasando las clases reales y las probabilidades de la clase positiva)\n",
    "    ns_auc = metrics.roc_auc_score(y, ns_probs)*100.0\n",
    "    # calculamos todos los pares de puntos (fpr, tpr) para dibujar la curva ROC (método roc_curve pasando las clases reales y las probabilidades de la clase positiva)\n",
    "    ns_fpr, ns_tpr, _ = metrics.roc_curve(y, ns_probs)\n",
    "    \n",
    "    # Para cada clasificador de la lista\n",
    "    for i,clf in enumerate(listaClfs):\n",
    "        # predecimos las probabilidades de predecir cada ejemplo en cada clase \n",
    "        if hasattr(clf, 'predict_proba'):\n",
    "            # Si el clasificador implementa predict_proba nos quedamos con las predicciones de la clase positiva (1): segunda columna\n",
    "            model_probs = clf.predict_proba(X)\n",
    "            model_probs = model_probs[:, 1]\n",
    "        else:\n",
    "            # Si el clasificador implementa decision_function\n",
    "            model_probs = clf.decision_function(X)\n",
    "\n",
    "\n",
    "        # calculamos el área bajo la curva ROC (método roc_auc_score pasando las clases reales y las probabilidades de la clase positiva)\n",
    "        model_auc = metrics.roc_auc_score(y, model_probs)*100.0\n",
    "        # calculamos todos los pares de puntos (fpr, tpr) para dibujar la curva ROC (método roc_curve pasando las clases reales y las probabilidades de la clase positiva)\n",
    "        model_fpr, model_tpr, _ = metrics.roc_curve(y, model_probs)\n",
    "        # forma alternativa de calcular el área bajo la curva ROC: este valor tiene que ser igual al guardado en model_auc\n",
    "            # auc vale para calcular el área bajo cualquier curva: en este caso es la ROC porque pasamos los puntos que la forman\n",
    "        print('Área bajo la curva ROC de {}: {:.2f}'.format(labels[i],metrics.auc(model_fpr, model_tpr)*100))\n",
    "        # Mostramos visualmente la curva ROC (plot mostrando fpr en el eje x y tpr en el eje y)\n",
    "        plt.plot(model_fpr, model_tpr, label=labels[i])\n",
    "        \n",
    "    # mostramos la curva del modelo sin calidad\n",
    "    plt.plot(ns_fpr, ns_tpr, linestyle='--', label='Sin calidad')\n",
    "    # Etiquetas de los ejes\n",
    "    plt.xlabel('False Positive Rate')\n",
    "    plt.ylabel('True Positive Rate')\n",
    "    # Leyenda\n",
    "    plt.legend()\n",
    "    # Título\n",
    "    plt.title('Curvas ROC')\n",
    "    # Mostramos la figura\n",
    "    plt.show()"
   ]
  },
  {
   "cell_type": "code",
   "execution_count": 25,
   "metadata": {},
   "outputs": [
    {
     "name": "stdout",
     "output_type": "stream",
     "text": [
      "Área bajo la curva ROC de Regresión logística: 81.00\n"
     ]
    },
    {
     "data": {
      "image/png": "[encoded data removed]",
      "text/plain": [
       "<Figure size 640x480 with 1 Axes>"
      ]
     },
     "metadata": {},
     "output_type": "display_data"
    }
   ],
   "source": [
    "muestra_ROC_courve([mejor_estimador], X_test, y_test, labels=['Regresión logística'])"
   ]
  },
  {
   "cell_type": "code",
   "execution_count": 22,
   "metadata": {},
   "outputs": [],
   "source": [
    "def muestra_PR_courve(listaClfs, X, y, labels):\n",
    "    # Calculamos lo necesario para mostrar la curva PR y sus valores de rendimiento\n",
    "    # Predicción sin calidad (proporción de ejemplos de la clase positiva, 1) \n",
    "    no_skill = len(y[y==1]) / len(y)\n",
    "    \n",
    "    # Para cada clasificador de la lista\n",
    "    for i,clf in enumerate(listaClfs):\n",
    "        \n",
    "        # Predicciones de las clases de los datos\n",
    "        predicciones = clf.predict(X)\n",
    "\n",
    "        # predecimos las probabilidades de predecir cada ejemplo en cada clase \n",
    "        if hasattr(clf, 'predict_proba'):\n",
    "            # Si el clasificador implementa predict_proba nos quedamos con las predicciones de la clase positiva (1): segunda columna\n",
    "            model_probs = clf.predict_proba(X)\n",
    "            model_probs = model_probs[:, 1]\n",
    "        else:\n",
    "            model_probs = clf.decision_function(X)\n",
    "\n",
    "        # calculamos todos los pares de puntos (recall, precision) para dibujar la curva PR (método precision_recall_curve pasando las clases reales y las probabilidades de la clase positiva)\n",
    "        model_precision, model_recall, thresholds = metrics.precision_recall_curve(y, model_probs) \n",
    "        # Calculamos el rendimientos f1-score (método f1_score pasando las clases reales y las predicciones del modelo)\n",
    "        model_f1 = metrics.f1_score(y, predicciones)*100.0\n",
    "        # Podemos calcular el área bajo la curva PR (uso del método auc: consultar celda de código anterior)\n",
    "        model_auc_PR = metrics.auc(model_recall, model_precision)\n",
    "        print('Área bajo la curva PR de {}: {:.2f}'.format(labels[i], model_auc_PR))\n",
    "\n",
    "        # Mostramos visualmente la curva PR\n",
    "        # mostramos el modelo\n",
    "        plt.plot(model_recall, model_precision, label=labels[i])\n",
    "    \n",
    "    # Mostramos el modelo sin calidad\n",
    "    plt.plot([0, 1], [no_skill, no_skill], linestyle='--', label='Sin calidad')\n",
    "    # Etiquetas de los ejes\n",
    "    plt.xlabel('Recall')\n",
    "    plt.ylabel('Precision')\n",
    "    # Leyenda\n",
    "    plt.legend()\n",
    "    # Título\n",
    "    plt.title('Curvas PR')\n",
    "    # Mostramos la figura\n",
    "    plt.show()"
   ]
  },
  {
   "cell_type": "code",
   "execution_count": 23,
   "metadata": {},
   "outputs": [
    {
     "name": "stdout",
     "output_type": "stream",
     "text": [
      "Área bajo la curva PR de Regresión logística: 0.16\n"
     ]
    },
    {
     "data": {
      "image/png": "[encoded data removed]",
      "text/plain": [
       "<Figure size 640x480 with 1 Axes>"
      ]
     },
     "metadata": {},
     "output_type": "display_data"
    }
   ],
   "source": [
    "muestra_PR_courve([mejor_estimador], X_test, y_test, labels=['Regresión logística'])"
   ]
  }
 ],
 "metadata": {
  "kernelspec": {
   "display_name": "zrive-ds-TXjvcAVs-py3.11",
   "language": "python",
   "name": "python3"
  },
  "language_info": {
   "codemirror_mode": {
    "name": "ipython",
    "version": 3
   },
   "file_extension": ".py",
   "mimetype": "text/x-python",
   "name": "python",
   "nbconvert_exporter": "python",
   "pygments_lexer": "ipython3",
   "version": "3.11.0"
  }
 },
 "nbformat": 4,
 "nbformat_minor": 2
}
