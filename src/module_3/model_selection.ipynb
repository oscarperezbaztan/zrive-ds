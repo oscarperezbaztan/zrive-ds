{
 "cells": [
  {
   "cell_type": "markdown",
   "metadata": {},
   "source": [
    "<h1 align=\"center\">Model selection</h1>"
   ]
  },
  {
   "cell_type": "markdown",
   "metadata": {},
   "source": [
    "Libraries"
   ]
  },
  {
   "cell_type": "code",
   "execution_count": 54,
   "metadata": {},
   "outputs": [],
   "source": [
    "import pandas as pd\n",
    "import numpy as np\n",
    "from sklearn.model_selection import train_test_split\n",
    "from sklearn.pipeline import Pipeline\n",
    "from sklearn.preprocessing import  StandardScaler\n",
    "from sklearn.linear_model import LogisticRegression\n",
    "from sklearn.model_selection import GridSearchCV\n",
    "from sklearn.compose import ColumnTransformer\n",
    "import category_encoders as ce\n",
    "from sklearn.model_selection import StratifiedKFold\n",
    "import matplotlib.pyplot as plt\n",
    "from datetime import timedelta\n",
    "from sklearn.model_selection import PredefinedSplit\n",
    "import pyarrow.parquet as pq\n",
    "from sklearn import metrics\n",
    "from sklearn.metrics import roc_auc_score, confusion_matrix\n",
    "from evaluation_functions import *\n"
   ]
  },
  {
   "cell_type": "markdown",
   "metadata": {},
   "source": [
    "<h2 style=\"text-align: left;\">Understanding the problem</h2>\n"
   ]
  },
  {
   "cell_type": "markdown",
   "metadata": {},
   "source": [
    "Download data"
   ]
  },
  {
   "cell_type": "code",
   "execution_count": 55,
   "metadata": {},
   "outputs": [
    {
     "data": {
      "text/plain": [
       "(2880549, 27)"
      ]
     },
     "execution_count": 55,
     "metadata": {},
     "output_type": "execute_result"
    }
   ],
   "source": [
    "parquet_file_path = '/home/oscar/data/feature_frame.parquet'\n",
    "data = pq.read_table(parquet_file_path).to_pandas()\n",
    "data.shape"
   ]
  },
  {
   "cell_type": "markdown",
   "metadata": {},
   "source": [
    "This sampling process is employed due to the large size of the dataset and the memory constraints that often lead to kernel crashes. To address this issue, we implement a sampling technique. However, instead of conducting random sampling, which could inadvertently remove specific products from transactions and introduce biases, we opt for a more structured approach.\n",
    "\n",
    "We base our sampling on orders, ensuring that entire transactions are included in the sample. This method preserves the integrity of the data and prevents distortions that might arise from other sampling methods. By randomly selecting orders to include in our sample, we create a representative subset of the dataset that is smaller in size and more manageable for analysis."
   ]
  },
  {
   "cell_type": "code",
   "execution_count": 56,
   "metadata": {},
   "outputs": [
    {
     "name": "stdout",
     "output_type": "stream",
     "text": [
      "Original dataset size: (2880549, 27)\n",
      "Sampled dataset size: (575383, 27)\n"
     ]
    }
   ],
   "source": [
    "order_ids = data['order_id'].unique()\n",
    "sample_percentage = 0.2  \n",
    "\n",
    "sample_orders_amount = int(len(order_ids) * sample_percentage)\n",
    "\n",
    "sampled_orders = np.random.choice(order_ids, size=sample_orders_amount, replace=False)\n",
    "\n",
    "sampled_data = data[data['order_id'].isin(sampled_orders)]\n",
    "\n",
    "print(\"Original dataset size:\", data.shape)\n",
    "print(\"Sampled dataset size:\", sampled_data.shape)"
   ]
  },
  {
   "cell_type": "code",
   "execution_count": 57,
   "metadata": {},
   "outputs": [],
   "source": [
    "data = sampled_data"
   ]
  },
  {
   "cell_type": "markdown",
   "metadata": {},
   "source": [
    "Firstly, we have to select those orders which contain at least 5 items, so we can filter the Data Frame owing to this specification. "
   ]
  },
  {
   "cell_type": "code",
   "execution_count": 58,
   "metadata": {},
   "outputs": [
    {
     "name": "stdout",
     "output_type": "stream",
     "text": [
      "Number of total orders: 689\n",
      "Number of orders with more than 5 products: 528\n"
     ]
    }
   ],
   "source": [
    "num_products_ordered = data.groupby('order_id')['outcome'].sum()\n",
    "orders_with_5_or_more_unique_products = num_products_ordered[num_products_ordered>=5].index\n",
    "\n",
    "filtered_data = data[data['order_id'].isin(orders_with_5_or_more_unique_products)]\n",
    "\n",
    "print(f\"Number of total orders: {data['order_id'].nunique()}\")\n",
    "print(f\"Number of orders with more than 5 products: {filtered_data['order_id'].nunique()}\")"
   ]
  },
  {
   "cell_type": "markdown",
   "metadata": {},
   "source": [
    "<h2 style=\"text-align: left;\">Feature Selection</h2>"
   ]
  },
  {
   "cell_type": "code",
   "execution_count": 59,
   "metadata": {},
   "outputs": [],
   "source": [
    "target = ['outcome']\n",
    "id_features = ['variant_id', 'order_id', 'user_id']\n",
    "temporal_features = ['created_at', 'order_date']\n",
    "binary_features = ['ordered_before', 'abandoned_before', 'active_snoozed', 'set_as_regular']\n",
    "categorical_features = ['product_type', 'vendor'] \n",
    "non_numerical_features = target + id_features+ temporal_features + categorical_features\n",
    "\n",
    "numerical_features = [feature for feature in filtered_data.columns if feature not in non_numerical_features]"
   ]
  },
  {
   "cell_type": "markdown",
   "metadata": {},
   "source": [
    "**IDENTIFICATION FEATURES**"
   ]
  },
  {
   "cell_type": "markdown",
   "metadata": {},
   "source": [
    "The identifying variables, order_id, user_id, and variant_id, serve to uniquely identify orders, users, and variants in the dataset. However, they do not possess any predictive power regarding the outcome of interest. Therefore, these identifying variables will not appear in the final dataset used for predictive modeling or analysis. "
   ]
  },
  {
   "cell_type": "code",
   "execution_count": 60,
   "metadata": {},
   "outputs": [],
   "source": [
    "features_to_remove = id_features"
   ]
  },
  {
   "cell_type": "markdown",
   "metadata": {},
   "source": [
    "**TEMPORAL FEATURES**"
   ]
  },
  {
   "cell_type": "markdown",
   "metadata": {},
   "source": [
    "In the \"temporal_features\" section, it's noted that the two temporal variables are of type \"object.\" This observation is crucial because it highlights that these variables are stored as strings rather than datetime objects. It's essential to keep this in mind when reading the dataset to ensure proper conversion into the datetime format.\n",
    "\n",
    "Converting these variables into the datetime format is important for several reasons, particularly when performing tasks such as time series analysis, feature engineering, or data splitting into training and testing sets."
   ]
  },
  {
   "cell_type": "code",
   "execution_count": 61,
   "metadata": {},
   "outputs": [],
   "source": [
    "filtered_data.loc[:,'order_date'] = pd.to_datetime(filtered_data.loc[:,'order_date'])\n",
    "filtered_data.loc[:,'created_at'] = pd.to_datetime(filtered_data.loc[:,'created_at'])"
   ]
  },
  {
   "cell_type": "markdown",
   "metadata": {},
   "source": [
    "There features represent essentially the same information, where 'order_date' and 'created_at' both capture temporal data. However, 'created_at' includes the time component in addition to the date, while 'order_date' only represents the date without the time."
   ]
  },
  {
   "cell_type": "code",
   "execution_count": 62,
   "metadata": {},
   "outputs": [
    {
     "name": "stdout",
     "output_type": "stream",
     "text": [
      "['variant_id', 'order_id', 'user_id', 'created_at']\n"
     ]
    }
   ],
   "source": [
    "features_to_remove.append('created_at')\n",
    "print(features_to_remove)"
   ]
  },
  {
   "cell_type": "markdown",
   "metadata": {},
   "source": [
    "**BINARY FEATURES**"
   ]
  },
  {
   "cell_type": "markdown",
   "metadata": {},
   "source": [
    "We initially considered aggregating these binary variables in some way, but it has been observed that they are not highly correlated with each other. Moreover, some individual variables, such as 'abandoned_before,' exhibit significant importance on their own for predicting the response variable."
   ]
  },
  {
   "cell_type": "code",
   "execution_count": 63,
   "metadata": {},
   "outputs": [
    {
     "name": "stdout",
     "output_type": "stream",
     "text": [
      "abandoned_before\n",
      "0.0     1.398652\n",
      "1.0    75.517241\n",
      "Name: outcome, dtype: float64\n"
     ]
    }
   ],
   "source": [
    "print(filtered_data.groupby('abandoned_before')['outcome'].mean() * 100)"
   ]
  },
  {
   "cell_type": "markdown",
   "metadata": {},
   "source": [
    "When 'abandoned_before' is 0.0, indicating that the customer has not abandoned an order before, the mean purchase rate is approximately 1.39%. Conversely, when 'abandoned_before' is 1.0, indicating that the customer has previously abandoned an order, the mean purchase rate drastically increases to approximately 75.08%. This substantial difference in purchase rates suggests that the 'abandoned_before' variable holds considerable predictive power on its own in determining the likelihood of purchase."
   ]
  },
  {
   "cell_type": "code",
   "execution_count": 64,
   "metadata": {},
   "outputs": [
    {
     "name": "stdout",
     "output_type": "stream",
     "text": [
      "Correlation Matrix between binary features:\n",
      "                  ordered_before  abandoned_before  active_snoozed  \\\n",
      "ordered_before          1.000000          0.037184        0.264045   \n",
      "abandoned_before        0.037184          1.000000        0.013331   \n",
      "active_snoozed          0.264045          0.013331        1.000000   \n",
      "set_as_regular          0.308033          0.000943        0.089247   \n",
      "\n",
      "                  set_as_regular  \n",
      "ordered_before          0.308033  \n",
      "abandoned_before        0.000943  \n",
      "active_snoozed          0.089247  \n",
      "set_as_regular          1.000000  \n"
     ]
    }
   ],
   "source": [
    "print(\"Correlation Matrix between binary features:\")\n",
    "print(filtered_data[binary_features].corr())"
   ]
  },
  {
   "cell_type": "markdown",
   "metadata": {},
   "source": [
    "**CATEGORICAL FEATURES**"
   ]
  },
  {
   "cell_type": "markdown",
   "metadata": {},
   "source": [
    "The initial intention is to encode these variables by frequency. However, it's not feasible to perform this encoding directly on the initial dataset. Instead, it must be done separately for each split. This approach is necessary to prevent data leakage or contamination between the splits, which could lead to an overly optimistic estimation of model performance."
   ]
  },
  {
   "cell_type": "markdown",
   "metadata": {},
   "source": [
    "**NUMERICAL FEATURES**"
   ]
  },
  {
   "cell_type": "markdown",
   "metadata": {},
   "source": [
    "The correlation matrices provide insights into linear relationships between variables, but it's important to note that non-linear relationships may exist, which are not captured by these matrices. Given this context, observing the correlation matrix provided, we can make several observations:\n",
    "\n",
    "* The variables \"avg_days_to_buy_variant_id\" and \"std_days_to_buy_variant_id\" show moderate correlation with \"days_since_purchase_variant_id.\"\n",
    "\n",
    "* The variable \"days_since_purchase_product_type\" displays moderate correlation with \"days_since_purchase_variant_id.\" \n",
    "\n",
    "* The variable \"avg_days_to_buy_product_type\" exhibits moderate correlation with \"avg_days_to_buy_variant_id\" and \"std_days_to_buy_variant_id.\" \n",
    "\n",
    "Despite these observations, it's essential to remember that correlation matrices do not capture all relationships between variables, especially non-linear ones. Therefore, no variables will be eliminated at this point due to the possibility of non-linear relationships not reflected in these matrices."
   ]
  },
  {
   "cell_type": "code",
   "execution_count": 65,
   "metadata": {},
   "outputs": [
    {
     "name": "stdout",
     "output_type": "stream",
     "text": [
      "                                  days_since_purchase_variant_id  \\\n",
      "days_since_purchase_variant_id                          1.000000   \n",
      "avg_days_to_buy_variant_id                              0.025450   \n",
      "std_days_to_buy_variant_id                              0.028620   \n",
      "days_since_purchase_product_type                        0.209006   \n",
      "avg_days_to_buy_product_type                            0.007646   \n",
      "std_days_to_buy_product_type                            0.008994   \n",
      "outcome                                                 0.027495   \n",
      "\n",
      "                                  avg_days_to_buy_variant_id  \\\n",
      "days_since_purchase_variant_id                      0.025450   \n",
      "avg_days_to_buy_variant_id                          1.000000   \n",
      "std_days_to_buy_variant_id                          0.596280   \n",
      "days_since_purchase_product_type                    0.001743   \n",
      "avg_days_to_buy_product_type                        0.292059   \n",
      "std_days_to_buy_product_type                        0.251979   \n",
      "outcome                                            -0.022862   \n",
      "\n",
      "                                  std_days_to_buy_variant_id  \\\n",
      "days_since_purchase_variant_id                      0.028620   \n",
      "avg_days_to_buy_variant_id                          0.596280   \n",
      "std_days_to_buy_variant_id                          1.000000   \n",
      "days_since_purchase_product_type                   -0.000937   \n",
      "avg_days_to_buy_product_type                        0.222271   \n",
      "std_days_to_buy_product_type                        0.254437   \n",
      "outcome                                            -0.011093   \n",
      "\n",
      "                                  days_since_purchase_product_type  \\\n",
      "days_since_purchase_variant_id                            0.209006   \n",
      "avg_days_to_buy_variant_id                                0.001743   \n",
      "std_days_to_buy_variant_id                               -0.000937   \n",
      "days_since_purchase_product_type                          1.000000   \n",
      "avg_days_to_buy_product_type                              0.016353   \n",
      "std_days_to_buy_product_type                              0.022616   \n",
      "outcome                                                   0.009846   \n",
      "\n",
      "                                  avg_days_to_buy_product_type  \\\n",
      "days_since_purchase_variant_id                        0.007646   \n",
      "avg_days_to_buy_variant_id                            0.292059   \n",
      "std_days_to_buy_variant_id                            0.222271   \n",
      "days_since_purchase_product_type                      0.016353   \n",
      "avg_days_to_buy_product_type                          1.000000   \n",
      "std_days_to_buy_product_type                          0.839461   \n",
      "outcome                                              -0.017278   \n",
      "\n",
      "                                  std_days_to_buy_product_type   outcome  \n",
      "days_since_purchase_variant_id                        0.008994  0.027495  \n",
      "avg_days_to_buy_variant_id                            0.251979 -0.022862  \n",
      "std_days_to_buy_variant_id                            0.254437 -0.011093  \n",
      "days_since_purchase_product_type                      0.022616  0.009846  \n",
      "avg_days_to_buy_product_type                          0.839461 -0.017278  \n",
      "std_days_to_buy_product_type                          1.000000 -0.011223  \n",
      "outcome                                              -0.011223  1.000000  \n"
     ]
    }
   ],
   "source": [
    "print(filtered_data[[\n",
    "    'days_since_purchase_variant_id',\n",
    "    'avg_days_to_buy_variant_id',\n",
    "    'std_days_to_buy_variant_id',\n",
    "    'days_since_purchase_product_type',\n",
    "    'avg_days_to_buy_product_type',\n",
    "    'std_days_to_buy_product_type',\n",
    "    'outcome'\n",
    "]].corr())"
   ]
  },
  {
   "cell_type": "markdown",
   "metadata": {},
   "source": [
    "Variables related to family members were likely imputed mostly with the median, as observed in the exploratory data analysis (EDA). However, due to this imputation strategy, they may introduce more noise than information into the dataset. Therefore, they will not be used in the analysis."
   ]
  },
  {
   "cell_type": "code",
   "execution_count": 66,
   "metadata": {},
   "outputs": [
    {
     "name": "stdout",
     "output_type": "stream",
     "text": [
      "['variant_id', 'order_id', 'user_id', 'created_at', 'count_adults', 'count_children', 'count_babies', 'count_pets', 'people_ex_baby']\n"
     ]
    }
   ],
   "source": [
    "features_to_remove.extend(['count_adults', 'count_children', 'count_babies', 'count_pets', 'people_ex_baby'])\n",
    "print(features_to_remove)"
   ]
  },
  {
   "cell_type": "markdown",
   "metadata": {},
   "source": [
    "**FINAL DATA**"
   ]
  },
  {
   "cell_type": "code",
   "execution_count": 67,
   "metadata": {},
   "outputs": [],
   "source": [
    "final_data = filtered_data.drop(features_to_remove, axis=1)"
   ]
  },
  {
   "cell_type": "markdown",
   "metadata": {},
   "source": [
    "<h2 style=\"text-align: left;\">Getting training, validation and testing</h2>"
   ]
  },
  {
   "cell_type": "markdown",
   "metadata": {},
   "source": [
    "**INITIAL SPLITTING (FINALLY NOT USED)**"
   ]
  },
  {
   "cell_type": "markdown",
   "metadata": {},
   "source": [
    "In order to avoid information leakage, we must consider several key factors:\n",
    "* We have to ensure that the same 'user_id' does not appear in both the training and testing datasets is crucial. This can lead to data leakage, compromisiing the integrity of the evaluation.\n",
    "* It's essential to mantain the assumption that the training and testing datasets are independentrly and identically distributed to ensure the model's performance on the test data accurately reflexts its ability to generalize to unseen data"
   ]
  },
  {
   "cell_type": "markdown",
   "metadata": {},
   "source": [
    "As we have **an imbalanced dataset**, we'll split the dataset into training and testing sets using **stratification**, and based on avoiding information leakage by user."
   ]
  },
  {
   "cell_type": "code",
   "execution_count": 13,
   "metadata": {},
   "outputs": [],
   "source": [
    "unique_users = data['user_id'].unique()\n",
    "train_users, test_users = train_test_split(unique_users, test_size=0.2)"
   ]
  },
  {
   "cell_type": "code",
   "execution_count": 14,
   "metadata": {},
   "outputs": [],
   "source": [
    "train_data = data[data['user_id'].isin(train_users)]\n",
    "test_data = data[data['user_id'].isin(test_users)]"
   ]
  },
  {
   "cell_type": "code",
   "execution_count": 15,
   "metadata": {},
   "outputs": [],
   "source": [
    "X_train = train_data.drop('outcome', axis=1)\n",
    "y_train = train_data['outcome']\n",
    "\n",
    "X_test = test_data.drop('outcome', axis=1)\n",
    "y_test = test_data['outcome']"
   ]
  },
  {
   "cell_type": "code",
   "execution_count": 16,
   "metadata": {},
   "outputs": [
    {
     "name": "stdout",
     "output_type": "stream",
     "text": [
      "Train set size: 0.7969782843478795\n",
      "Test set size: 0.2030217156521205\n"
     ]
    }
   ],
   "source": [
    "print(\"Train set size:\", len(train_data)/(len(train_data)+len(test_data)))\n",
    "print(\"Test set size:\", len(test_data)/(len(train_data)+len(test_data)))"
   ]
  },
  {
   "cell_type": "markdown",
   "metadata": {},
   "source": [
    "Overall, the proportion of examples for each class is maintained well between the train and test sets. Despite the class imbalance, the proportion remains consistent across both sets. This suggests that stratifying the data during the train-test split may not be necessary in this case, as the imbalance is preserved in both sets without intervention. However, it's important to note that this imbalance might affect the performance of some classifiers, and strategies such as oversampling or undersampling of the minority class may be considered to address this issue."
   ]
  },
  {
   "cell_type": "code",
   "execution_count": 17,
   "metadata": {},
   "outputs": [
    {
     "name": "stdout",
     "output_type": "stream",
     "text": [
      "Percentage of examples for each class in train set:\n",
      "outcome\n",
      "0.0    98.842506\n",
      "1.0     1.157494\n",
      "Name: proportion, dtype: float64\n",
      "\n",
      "Percentage of examples for each class in test set:\n",
      "outcome\n",
      "0.0    98.861347\n",
      "1.0     1.138653\n",
      "Name: proportion, dtype: float64\n"
     ]
    }
   ],
   "source": [
    "train_class_percentages = train_data['outcome'].value_counts(normalize=True) * 100\n",
    "test_class_percentages = test_data['outcome'].value_counts(normalize=True) * 100\n",
    "\n",
    "print(\"Percentage of examples for each class in train set:\")\n",
    "print(train_class_percentages)\n",
    "print(\"\\nPercentage of examples for each class in test set:\")\n",
    "print(test_class_percentages)"
   ]
  },
  {
   "cell_type": "markdown",
   "metadata": {},
   "source": [
    "The approach described above was a way to split the data without considering the temporal reference. Initially, I assumed that temporal information might not be crucial as there was already data available on the days since the last purchase, etc. However, upon further consideration, I realized the importance of incorporating temporal information into the data splitting process.\n",
    "\n",
    "To address this, I devised another approach for splitting the data based on this temporal reference. This new approach involves dividing the dataset into training and testing sets while ensuring that the temporal sequence is preserved. By doing so, we aim to account for any temporal dependencies or patterns in the data, which may be critical for accurately modeling and predicting future outcomes."
   ]
  },
  {
   "cell_type": "markdown",
   "metadata": {},
   "source": [
    "**NEW SPLITTING**"
   ]
  },
  {
   "cell_type": "markdown",
   "metadata": {},
   "source": [
    "When separating data, it's crucial to consider the date on which orders are placed for several reasons. Firstly, the temporal aspect provides valuable insights into patterns and trends over time, which can significantly impact the performance of predictive models. By incorporating temporal information into the data splitting process, we ensure that the training data represents past observations, while the testing or validation data represents future observations, mimicking real-world scenarios.\n",
    "\n",
    "Moreover, not considering the date of orders can lead to a phenomenon known as data leakage. Data leakage occurs when information from the future or unseen data is inadvertently included in the training process, leading to overly optimistic performance estimates of the model. In the context of order data, if future information, such as orders placed after a certain date, is included in the training set, the model may learn patterns that do not generalize well to unseen data, resulting in poor model performance when deployed in production."
   ]
  },
  {
   "cell_type": "code",
   "execution_count": 68,
   "metadata": {},
   "outputs": [
    {
     "data": {
      "image/png": "[encoded data removed]",
      "text/plain": [
       "<Figure size 1000x600 with 1 Axes>"
      ]
     },
     "metadata": {},
     "output_type": "display_data"
    }
   ],
   "source": [
    "daily_orders = final_data.groupby('order_date').count()\n",
    "plt.figure(figsize=(10, 6)) \n",
    "plt.plot(daily_orders, marker='o', linestyle='-')  \n",
    "plt.title('Daily Orders')  \n",
    "plt.xlabel('Date')  \n",
    "plt.ylabel('Number of Orders')\n",
    "plt.grid(True) \n",
    "plt.show()"
   ]
  },
  {
   "cell_type": "markdown",
   "metadata": {},
   "source": [
    "Firstly, we should conduct research regarding date information:"
   ]
  },
  {
   "cell_type": "code",
   "execution_count": 70,
   "metadata": {},
   "outputs": [
    {
     "name": "stdout",
     "output_type": "stream",
     "text": [
      "Minimum order date: 2020-10-06 00:00:00\n",
      "Maximum order date: 2021-03-03 00:00:00\n"
     ]
    }
   ],
   "source": [
    "print(\"Minimum order date:\", final_data['order_date'].min())\n",
    "print(\"Maximum order date:\", final_data['order_date'].max())"
   ]
  },
  {
   "cell_type": "markdown",
   "metadata": {},
   "source": [
    "The criterion followed for the separation is based on dividing the data into three sets: training, validation, and testing, while maintaining a temporal relationship among them. This approach ensures that the model is trained on data from an earlier period than the validation and testing data.\n",
    "\n",
    "Specifically, the data is divided into three parts using quantiles based on the order dates. Approximately 70% of the data is allocated to the training set, while approximately 15% each is allocated to the validation and testing sets. This allocation strategy considers the distribution of orders over time, aiming to prevent information contamination between sets.\n",
    "\n",
    "Adhering to this temporal relationship is crucial for preventing the model from learning patterns specific to the validation and testing data, thus promoting its generalization ability to unseen data effectively. Moreover, allocating a larger portion of data to training ensures that the model learns from a diverse range of examples, which enhances its overall performance and robustness."
   ]
  },
  {
   "cell_type": "code",
   "execution_count": 120,
   "metadata": {},
   "outputs": [
    {
     "name": "stdout",
     "output_type": "stream",
     "text": [
      "Training set size: 0.6968283049992813\n",
      "Validation set size: 0.14354652131157267\n",
      "Testing set size: 0.15962517368914605\n"
     ]
    }
   ],
   "source": [
    "final_data_sorted = final_data.sort_values(by='order_date')\n",
    "\n",
    "train_end = final_data_sorted['order_date'].quantile(0.7)\n",
    "val_end = final_data_sorted['order_date'].quantile(0.85)\n",
    "test_end = final_data_sorted['order_date'].quantile(1)\n",
    "\n",
    "\n",
    "train_data = final_data_sorted[final_data_sorted['order_date'] < train_end]\n",
    "val_data = final_data_sorted[(final_data_sorted['order_date'] >= train_end) & (final_data_sorted['order_date'] < val_end)]\n",
    "test_data = final_data_sorted[(final_data_sorted['order_date'] >= val_end) & (final_data_sorted['order_date'] <= test_end)]\n",
    "\n",
    "print(\"Training set size:\", (train_data.shape[0] / final_data_sorted.shape[0]))\n",
    "print(\"Validation set size:\", (val_data.shape[0] / final_data_sorted.shape[0]))\n",
    "print(\"Testing set size:\", (test_data.shape[0] / final_data_sorted.shape[0]))"
   ]
  },
  {
   "cell_type": "markdown",
   "metadata": {},
   "source": [
    "These dates represent the end points of each subset:\n",
    "\n",
    "* The training set ends on February 9, 2021, at midnight.\n",
    "* The validation set ends on February 21, 2021, at midnight.\n",
    "* The testing set ends on March 3, 2021, at midnight."
   ]
  },
  {
   "cell_type": "markdown",
   "metadata": {},
   "source": [
    "**Possible issue**: What if I have a user who makes purchases in both the training and testing sets? Will the model learn from that user? Is there a risk of data leakage?"
   ]
  },
  {
   "cell_type": "code",
   "execution_count": 127,
   "metadata": {},
   "outputs": [],
   "source": [
    "X_train = train_data.drop(columns=['outcome', 'order_date'])\n",
    "y_train = train_data['outcome']\n",
    "\n",
    "X_val = val_data.drop(columns=['outcome', 'order_date'])\n",
    "y_val = val_data['outcome']\n",
    "\n",
    "X_test = test_data.drop(columns=['outcome', 'order_date'])\n",
    "y_test = test_data['outcome']"
   ]
  },
  {
   "cell_type": "markdown",
   "metadata": {},
   "source": [
    "<h2 style=\"text-align: left;\">Data training</h2>"
   ]
  },
  {
   "cell_type": "markdown",
   "metadata": {},
   "source": [
    "1. **Logistic Regression l2 - Ridge**"
   ]
  },
  {
   "cell_type": "markdown",
   "metadata": {},
   "source": [
    "Before diving into model training, we undertake a preprocessing step known as encoding, specifically tailored for categorical features. \n",
    "\n",
    "In this context, we employ a technique called Count Encoding, which involves replacing categorical values with the frequency of their occurrences within the dataset. Unlike One-Hot Encoding, which can lead to an explosion in the number of features, especially when dealing with categorical features with numerous unique values, Count Encoding mitigates this issue by providing a compact representation of categorical data.\n",
    "\n",
    "Moreover, we opt against using Target Encoding at this stage due to potential concerns related to class imbalance. Target Encoding, which involves replacing categorical values with the mean of the target variable within each category, may risk overfitting, particularly when dealing with imbalanced classes."
   ]
  },
  {
   "cell_type": "code",
   "execution_count": 128,
   "metadata": {},
   "outputs": [],
   "source": [
    "columns_to_encode = categorical_features\n",
    "\n",
    "column_transformer = ColumnTransformer(\n",
    "    transformers=[\n",
    "        ('encoder', ce.CountEncoder(min_group_size=1.0), columns_to_encode)\n",
    "    ],\n",
    "    remainder='passthrough' \n",
    ")"
   ]
  },
  {
   "cell_type": "markdown",
   "metadata": {},
   "source": [
    "After encoding categorical variables, we perform variable normalization, a crucial step in logistic regression, primarily due to its sensitivity to the scale of the features.Moreover, Ridge regularization is employed as the initial regularization technique in our model pipeline. This is done to address potential issues such as overfitting and multicollinearity.\n",
    "\n",
    "Ridge regularization adds a penalty term to the coefficient estimates during model training, which helps prevent overfitting by reducing the magnitude of the coefficients. By starting with Ridge regularization, we ensure that no variables are overly penalized initially, allowing the model to learn from the data more effectively.\n",
    "Moreover, Ridge regularization is particularly useful for managing multicollinearity.\n",
    "\n",
    "\n",
    "To optimize the model, we aim to find the highest F1-score due to three main reasons:\n",
    "* The dataset is imbalanced\n",
    "* We are interested in correctly identifying positive cases. The F1-score takes into account both precision (the ability to correctly identify positive cases among all predicted positives) and recall (the ability to capture all positive cases among all actual positives), providing a holistic assessment of the model's ability to detect positive instances.\n",
    "\n",
    "* We aim to avoid oversaturating users with unnecessary alerts: While it is essential to correctly identify positive instances, we also want to minimize false positives to avoid inundating users with unnecessary alerts or recommendations. By optimizing for F1-score, we strike a balance between correctly identifying positive cases and minimizing false positives, ensuring a more user-friendly and effective application of the model."
   ]
  },
  {
   "cell_type": "code",
   "execution_count": 131,
   "metadata": {},
   "outputs": [
    {
     "data": {
      "text/html": [
       "<style>#sk-container-id-3 {\n",
       "  /* Definition of color scheme common for light and dark mode */\n",
       "  --sklearn-color-text: black;\n",
       "  --sklearn-color-line: gray;\n",
       "  /* Definition of color scheme for unfitted estimators */\n",
       "  --sklearn-color-unfitted-level-0: #fff5e6;\n",
       "  --sklearn-color-unfitted-level-1: #f6e4d2;\n",
       "  --sklearn-color-unfitted-level-2: #ffe0b3;\n",
       "  --sklearn-color-unfitted-level-3: chocolate;\n",
       "  /* Definition of color scheme for fitted estimators */\n",
       "  --sklearn-color-fitted-level-0: #f0f8ff;\n",
       "  --sklearn-color-fitted-level-1: #d4ebff;\n",
       "  --sklearn-color-fitted-level-2: #b3dbfd;\n",
       "  --sklearn-color-fitted-level-3: cornflowerblue;\n",
       "\n",
       "  /* Specific color for light theme */\n",
       "  --sklearn-color-text-on-default-background: var(--sg-text-color, var(--theme-code-foreground, var(--jp-content-font-color1, black)));\n",
       "  --sklearn-color-background: var(--sg-background-color, var(--theme-background, var(--jp-layout-color0, white)));\n",
       "  --sklearn-color-border-box: var(--sg-text-color, var(--theme-code-foreground, var(--jp-content-font-color1, black)));\n",
       "  --sklearn-color-icon: #696969;\n",
       "\n",
       "  @media (prefers-color-scheme: dark) {\n",
       "    /* Redefinition of color scheme for dark theme */\n",
       "    --sklearn-color-text-on-default-background: var(--sg-text-color, var(--theme-code-foreground, var(--jp-content-font-color1, white)));\n",
       "    --sklearn-color-background: var(--sg-background-color, var(--theme-background, var(--jp-layout-color0, #111)));\n",
       "    --sklearn-color-border-box: var(--sg-text-color, var(--theme-code-foreground, var(--jp-content-font-color1, white)));\n",
       "    --sklearn-color-icon: #878787;\n",
       "  }\n",
       "}\n",
       "\n",
       "#sk-container-id-3 {\n",
       "  color: var(--sklearn-color-text);\n",
       "}\n",
       "\n",
       "#sk-container-id-3 pre {\n",
       "  padding: 0;\n",
       "}\n",
       "\n",
       "#sk-container-id-3 input.sk-hidden--visually {\n",
       "  border: 0;\n",
       "  clip: rect(1px 1px 1px 1px);\n",
       "  clip: rect(1px, 1px, 1px, 1px);\n",
       "  height: 1px;\n",
       "  margin: -1px;\n",
       "  overflow: hidden;\n",
       "  padding: 0;\n",
       "  position: absolute;\n",
       "  width: 1px;\n",
       "}\n",
       "\n",
       "#sk-container-id-3 div.sk-dashed-wrapped {\n",
       "  border: 1px dashed var(--sklearn-color-line);\n",
       "  margin: 0 0.4em 0.5em 0.4em;\n",
       "  box-sizing: border-box;\n",
       "  padding-bottom: 0.4em;\n",
       "  background-color: var(--sklearn-color-background);\n",
       "}\n",
       "\n",
       "#sk-container-id-3 div.sk-container {\n",
       "  /* jupyter's `normalize.less` sets `[hidden] { display: none; }`\n",
       "     but bootstrap.min.css set `[hidden] { display: none !important; }`\n",
       "     so we also need the `!important` here to be able to override the\n",
       "     default hidden behavior on the sphinx rendered scikit-learn.org.\n",
       "     See: https://github.com/scikit-learn/scikit-learn/issues/21755 */\n",
       "  display: inline-block !important;\n",
       "  position: relative;\n",
       "}\n",
       "\n",
       "#sk-container-id-3 div.sk-text-repr-fallback {\n",
       "  display: none;\n",
       "}\n",
       "\n",
       "div.sk-parallel-item,\n",
       "div.sk-serial,\n",
       "div.sk-item {\n",
       "  /* draw centered vertical line to link estimators */\n",
       "  background-image: linear-gradient(var(--sklearn-color-text-on-default-background), var(--sklearn-color-text-on-default-background));\n",
       "  background-size: 2px 100%;\n",
       "  background-repeat: no-repeat;\n",
       "  background-position: center center;\n",
       "}\n",
       "\n",
       "/* Parallel-specific style estimator block */\n",
       "\n",
       "#sk-container-id-3 div.sk-parallel-item::after {\n",
       "  content: \"\";\n",
       "  width: 100%;\n",
       "  border-bottom: 2px solid var(--sklearn-color-text-on-default-background);\n",
       "  flex-grow: 1;\n",
       "}\n",
       "\n",
       "#sk-container-id-3 div.sk-parallel {\n",
       "  display: flex;\n",
       "  align-items: stretch;\n",
       "  justify-content: center;\n",
       "  background-color: var(--sklearn-color-background);\n",
       "  position: relative;\n",
       "}\n",
       "\n",
       "#sk-container-id-3 div.sk-parallel-item {\n",
       "  display: flex;\n",
       "  flex-direction: column;\n",
       "}\n",
       "\n",
       "#sk-container-id-3 div.sk-parallel-item:first-child::after {\n",
       "  align-self: flex-end;\n",
       "  width: 50%;\n",
       "}\n",
       "\n",
       "#sk-container-id-3 div.sk-parallel-item:last-child::after {\n",
       "  align-self: flex-start;\n",
       "  width: 50%;\n",
       "}\n",
       "\n",
       "#sk-container-id-3 div.sk-parallel-item:only-child::after {\n",
       "  width: 0;\n",
       "}\n",
       "\n",
       "/* Serial-specific style estimator block */\n",
       "\n",
       "#sk-container-id-3 div.sk-serial {\n",
       "  display: flex;\n",
       "  flex-direction: column;\n",
       "  align-items: center;\n",
       "  background-color: var(--sklearn-color-background);\n",
       "  padding-right: 1em;\n",
       "  padding-left: 1em;\n",
       "}\n",
       "\n",
       "\n",
       "/* Toggleable style: style used for estimator/Pipeline/ColumnTransformer box that is\n",
       "clickable and can be expanded/collapsed.\n",
       "- Pipeline and ColumnTransformer use this feature and define the default style\n",
       "- Estimators will overwrite some part of the style using the `sk-estimator` class\n",
       "*/\n",
       "\n",
       "/* Pipeline and ColumnTransformer style (default) */\n",
       "\n",
       "#sk-container-id-3 div.sk-toggleable {\n",
       "  /* Default theme specific background. It is overwritten whether we have a\n",
       "  specific estimator or a Pipeline/ColumnTransformer */\n",
       "  background-color: var(--sklearn-color-background);\n",
       "}\n",
       "\n",
       "/* Toggleable label */\n",
       "#sk-container-id-3 label.sk-toggleable__label {\n",
       "  cursor: pointer;\n",
       "  display: block;\n",
       "  width: 100%;\n",
       "  margin-bottom: 0;\n",
       "  padding: 0.5em;\n",
       "  box-sizing: border-box;\n",
       "  text-align: center;\n",
       "}\n",
       "\n",
       "#sk-container-id-3 label.sk-toggleable__label-arrow:before {\n",
       "  /* Arrow on the left of the label */\n",
       "  content: \"▸\";\n",
       "  float: left;\n",
       "  margin-right: 0.25em;\n",
       "  color: var(--sklearn-color-icon);\n",
       "}\n",
       "\n",
       "#sk-container-id-3 label.sk-toggleable__label-arrow:hover:before {\n",
       "  color: var(--sklearn-color-text);\n",
       "}\n",
       "\n",
       "/* Toggleable content - dropdown */\n",
       "\n",
       "#sk-container-id-3 div.sk-toggleable__content {\n",
       "  max-height: 0;\n",
       "  max-width: 0;\n",
       "  overflow: hidden;\n",
       "  text-align: left;\n",
       "  /* unfitted */\n",
       "  background-color: var(--sklearn-color-unfitted-level-0);\n",
       "}\n",
       "\n",
       "#sk-container-id-3 div.sk-toggleable__content.fitted {\n",
       "  /* fitted */\n",
       "  background-color: var(--sklearn-color-fitted-level-0);\n",
       "}\n",
       "\n",
       "#sk-container-id-3 div.sk-toggleable__content pre {\n",
       "  margin: 0.2em;\n",
       "  border-radius: 0.25em;\n",
       "  color: var(--sklearn-color-text);\n",
       "  /* unfitted */\n",
       "  background-color: var(--sklearn-color-unfitted-level-0);\n",
       "}\n",
       "\n",
       "#sk-container-id-3 div.sk-toggleable__content.fitted pre {\n",
       "  /* unfitted */\n",
       "  background-color: var(--sklearn-color-fitted-level-0);\n",
       "}\n",
       "\n",
       "#sk-container-id-3 input.sk-toggleable__control:checked~div.sk-toggleable__content {\n",
       "  /* Expand drop-down */\n",
       "  max-height: 200px;\n",
       "  max-width: 100%;\n",
       "  overflow: auto;\n",
       "}\n",
       "\n",
       "#sk-container-id-3 input.sk-toggleable__control:checked~label.sk-toggleable__label-arrow:before {\n",
       "  content: \"▾\";\n",
       "}\n",
       "\n",
       "/* Pipeline/ColumnTransformer-specific style */\n",
       "\n",
       "#sk-container-id-3 div.sk-label input.sk-toggleable__control:checked~label.sk-toggleable__label {\n",
       "  color: var(--sklearn-color-text);\n",
       "  background-color: var(--sklearn-color-unfitted-level-2);\n",
       "}\n",
       "\n",
       "#sk-container-id-3 div.sk-label.fitted input.sk-toggleable__control:checked~label.sk-toggleable__label {\n",
       "  background-color: var(--sklearn-color-fitted-level-2);\n",
       "}\n",
       "\n",
       "/* Estimator-specific style */\n",
       "\n",
       "/* Colorize estimator box */\n",
       "#sk-container-id-3 div.sk-estimator input.sk-toggleable__control:checked~label.sk-toggleable__label {\n",
       "  /* unfitted */\n",
       "  background-color: var(--sklearn-color-unfitted-level-2);\n",
       "}\n",
       "\n",
       "#sk-container-id-3 div.sk-estimator.fitted input.sk-toggleable__control:checked~label.sk-toggleable__label {\n",
       "  /* fitted */\n",
       "  background-color: var(--sklearn-color-fitted-level-2);\n",
       "}\n",
       "\n",
       "#sk-container-id-3 div.sk-label label.sk-toggleable__label,\n",
       "#sk-container-id-3 div.sk-label label {\n",
       "  /* The background is the default theme color */\n",
       "  color: var(--sklearn-color-text-on-default-background);\n",
       "}\n",
       "\n",
       "/* On hover, darken the color of the background */\n",
       "#sk-container-id-3 div.sk-label:hover label.sk-toggleable__label {\n",
       "  color: var(--sklearn-color-text);\n",
       "  background-color: var(--sklearn-color-unfitted-level-2);\n",
       "}\n",
       "\n",
       "/* Label box, darken color on hover, fitted */\n",
       "#sk-container-id-3 div.sk-label.fitted:hover label.sk-toggleable__label.fitted {\n",
       "  color: var(--sklearn-color-text);\n",
       "  background-color: var(--sklearn-color-fitted-level-2);\n",
       "}\n",
       "\n",
       "/* Estimator label */\n",
       "\n",
       "#sk-container-id-3 div.sk-label label {\n",
       "  font-family: monospace;\n",
       "  font-weight: bold;\n",
       "  display: inline-block;\n",
       "  line-height: 1.2em;\n",
       "}\n",
       "\n",
       "#sk-container-id-3 div.sk-label-container {\n",
       "  text-align: center;\n",
       "}\n",
       "\n",
       "/* Estimator-specific */\n",
       "#sk-container-id-3 div.sk-estimator {\n",
       "  font-family: monospace;\n",
       "  border: 1px dotted var(--sklearn-color-border-box);\n",
       "  border-radius: 0.25em;\n",
       "  box-sizing: border-box;\n",
       "  margin-bottom: 0.5em;\n",
       "  /* unfitted */\n",
       "  background-color: var(--sklearn-color-unfitted-level-0);\n",
       "}\n",
       "\n",
       "#sk-container-id-3 div.sk-estimator.fitted {\n",
       "  /* fitted */\n",
       "  background-color: var(--sklearn-color-fitted-level-0);\n",
       "}\n",
       "\n",
       "/* on hover */\n",
       "#sk-container-id-3 div.sk-estimator:hover {\n",
       "  /* unfitted */\n",
       "  background-color: var(--sklearn-color-unfitted-level-2);\n",
       "}\n",
       "\n",
       "#sk-container-id-3 div.sk-estimator.fitted:hover {\n",
       "  /* fitted */\n",
       "  background-color: var(--sklearn-color-fitted-level-2);\n",
       "}\n",
       "\n",
       "/* Specification for estimator info (e.g. \"i\" and \"?\") */\n",
       "\n",
       "/* Common style for \"i\" and \"?\" */\n",
       "\n",
       ".sk-estimator-doc-link,\n",
       "a:link.sk-estimator-doc-link,\n",
       "a:visited.sk-estimator-doc-link {\n",
       "  float: right;\n",
       "  font-size: smaller;\n",
       "  line-height: 1em;\n",
       "  font-family: monospace;\n",
       "  background-color: var(--sklearn-color-background);\n",
       "  border-radius: 1em;\n",
       "  height: 1em;\n",
       "  width: 1em;\n",
       "  text-decoration: none !important;\n",
       "  margin-left: 1ex;\n",
       "  /* unfitted */\n",
       "  border: var(--sklearn-color-unfitted-level-1) 1pt solid;\n",
       "  color: var(--sklearn-color-unfitted-level-1);\n",
       "}\n",
       "\n",
       ".sk-estimator-doc-link.fitted,\n",
       "a:link.sk-estimator-doc-link.fitted,\n",
       "a:visited.sk-estimator-doc-link.fitted {\n",
       "  /* fitted */\n",
       "  border: var(--sklearn-color-fitted-level-1) 1pt solid;\n",
       "  color: var(--sklearn-color-fitted-level-1);\n",
       "}\n",
       "\n",
       "/* On hover */\n",
       "div.sk-estimator:hover .sk-estimator-doc-link:hover,\n",
       ".sk-estimator-doc-link:hover,\n",
       "div.sk-label-container:hover .sk-estimator-doc-link:hover,\n",
       ".sk-estimator-doc-link:hover {\n",
       "  /* unfitted */\n",
       "  background-color: var(--sklearn-color-unfitted-level-3);\n",
       "  color: var(--sklearn-color-background);\n",
       "  text-decoration: none;\n",
       "}\n",
       "\n",
       "div.sk-estimator.fitted:hover .sk-estimator-doc-link.fitted:hover,\n",
       ".sk-estimator-doc-link.fitted:hover,\n",
       "div.sk-label-container:hover .sk-estimator-doc-link.fitted:hover,\n",
       ".sk-estimator-doc-link.fitted:hover {\n",
       "  /* fitted */\n",
       "  background-color: var(--sklearn-color-fitted-level-3);\n",
       "  color: var(--sklearn-color-background);\n",
       "  text-decoration: none;\n",
       "}\n",
       "\n",
       "/* Span, style for the box shown on hovering the info icon */\n",
       ".sk-estimator-doc-link span {\n",
       "  display: none;\n",
       "  z-index: 9999;\n",
       "  position: relative;\n",
       "  font-weight: normal;\n",
       "  right: .2ex;\n",
       "  padding: .5ex;\n",
       "  margin: .5ex;\n",
       "  width: min-content;\n",
       "  min-width: 20ex;\n",
       "  max-width: 50ex;\n",
       "  color: var(--sklearn-color-text);\n",
       "  box-shadow: 2pt 2pt 4pt #999;\n",
       "  /* unfitted */\n",
       "  background: var(--sklearn-color-unfitted-level-0);\n",
       "  border: .5pt solid var(--sklearn-color-unfitted-level-3);\n",
       "}\n",
       "\n",
       ".sk-estimator-doc-link.fitted span {\n",
       "  /* fitted */\n",
       "  background: var(--sklearn-color-fitted-level-0);\n",
       "  border: var(--sklearn-color-fitted-level-3);\n",
       "}\n",
       "\n",
       ".sk-estimator-doc-link:hover span {\n",
       "  display: block;\n",
       "}\n",
       "\n",
       "/* \"?\"-specific style due to the `<a>` HTML tag */\n",
       "\n",
       "#sk-container-id-3 a.estimator_doc_link {\n",
       "  float: right;\n",
       "  font-size: 1rem;\n",
       "  line-height: 1em;\n",
       "  font-family: monospace;\n",
       "  background-color: var(--sklearn-color-background);\n",
       "  border-radius: 1rem;\n",
       "  height: 1rem;\n",
       "  width: 1rem;\n",
       "  text-decoration: none;\n",
       "  /* unfitted */\n",
       "  color: var(--sklearn-color-unfitted-level-1);\n",
       "  border: var(--sklearn-color-unfitted-level-1) 1pt solid;\n",
       "}\n",
       "\n",
       "#sk-container-id-3 a.estimator_doc_link.fitted {\n",
       "  /* fitted */\n",
       "  border: var(--sklearn-color-fitted-level-1) 1pt solid;\n",
       "  color: var(--sklearn-color-fitted-level-1);\n",
       "}\n",
       "\n",
       "/* On hover */\n",
       "#sk-container-id-3 a.estimator_doc_link:hover {\n",
       "  /* unfitted */\n",
       "  background-color: var(--sklearn-color-unfitted-level-3);\n",
       "  color: var(--sklearn-color-background);\n",
       "  text-decoration: none;\n",
       "}\n",
       "\n",
       "#sk-container-id-3 a.estimator_doc_link.fitted:hover {\n",
       "  /* fitted */\n",
       "  background-color: var(--sklearn-color-fitted-level-3);\n",
       "}\n",
       "</style><div id=\"sk-container-id-3\" class=\"sk-top-container\"><div class=\"sk-text-repr-fallback\"><pre>GridSearchCV(estimator=Pipeline(steps=[(&#x27;preprocessor&#x27;,\n",
       "                                        ColumnTransformer(remainder=&#x27;passthrough&#x27;,\n",
       "                                                          transformers=[(&#x27;encoder&#x27;,\n",
       "                                                                         CountEncoder(combine_min_nan_groups=True,\n",
       "                                                                                      min_group_size=1.0),\n",
       "                                                                         [&#x27;product_type&#x27;,\n",
       "                                                                          &#x27;vendor&#x27;])])),\n",
       "                                       (&#x27;scaler&#x27;, StandardScaler()),\n",
       "                                       (&#x27;reg&#x27;,\n",
       "                                        LogisticRegression(solver=&#x27;newton-cg&#x27;))]),\n",
       "             param_grid={&#x27;reg__C&#x27;: array([1.e+05, 1.e+04, 1.e+03, 1.e+02, 1.e+01, 1.e+00, 1.e-01, 1.e-02,\n",
       "       1.e-03, 1.e-04])},\n",
       "             return_train_score=True, scoring=&#x27;f1&#x27;)</pre><b>In a Jupyter environment, please rerun this cell to show the HTML representation or trust the notebook. <br />On GitHub, the HTML representation is unable to render, please try loading this page with nbviewer.org.</b></div><div class=\"sk-container\" hidden><div class=\"sk-item sk-dashed-wrapped\"><div class=\"sk-label-container\"><div class=\"sk-label fitted sk-toggleable\"><input class=\"sk-toggleable__control sk-hidden--visually\" id=\"sk-estimator-id-19\" type=\"checkbox\" ><label for=\"sk-estimator-id-19\" class=\"sk-toggleable__label fitted sk-toggleable__label-arrow fitted\">&nbsp;&nbsp;GridSearchCV<a class=\"sk-estimator-doc-link fitted\" rel=\"noreferrer\" target=\"_blank\" href=\"https://scikit-learn.org/1.4/modules/generated/sklearn.model_selection.GridSearchCV.html\">?<span>Documentation for GridSearchCV</span></a><span class=\"sk-estimator-doc-link fitted\">i<span>Fitted</span></span></label><div class=\"sk-toggleable__content fitted\"><pre>GridSearchCV(estimator=Pipeline(steps=[(&#x27;preprocessor&#x27;,\n",
       "                                        ColumnTransformer(remainder=&#x27;passthrough&#x27;,\n",
       "                                                          transformers=[(&#x27;encoder&#x27;,\n",
       "                                                                         CountEncoder(combine_min_nan_groups=True,\n",
       "                                                                                      min_group_size=1.0),\n",
       "                                                                         [&#x27;product_type&#x27;,\n",
       "                                                                          &#x27;vendor&#x27;])])),\n",
       "                                       (&#x27;scaler&#x27;, StandardScaler()),\n",
       "                                       (&#x27;reg&#x27;,\n",
       "                                        LogisticRegression(solver=&#x27;newton-cg&#x27;))]),\n",
       "             param_grid={&#x27;reg__C&#x27;: array([1.e+05, 1.e+04, 1.e+03, 1.e+02, 1.e+01, 1.e+00, 1.e-01, 1.e-02,\n",
       "       1.e-03, 1.e-04])},\n",
       "             return_train_score=True, scoring=&#x27;f1&#x27;)</pre></div> </div></div><div class=\"sk-parallel\"><div class=\"sk-parallel-item\"><div class=\"sk-item\"><div class=\"sk-label-container\"><div class=\"sk-label fitted sk-toggleable\"><input class=\"sk-toggleable__control sk-hidden--visually\" id=\"sk-estimator-id-20\" type=\"checkbox\" ><label for=\"sk-estimator-id-20\" class=\"sk-toggleable__label fitted sk-toggleable__label-arrow fitted\">estimator: Pipeline</label><div class=\"sk-toggleable__content fitted\"><pre>Pipeline(steps=[(&#x27;preprocessor&#x27;,\n",
       "                 ColumnTransformer(remainder=&#x27;passthrough&#x27;,\n",
       "                                   transformers=[(&#x27;encoder&#x27;,\n",
       "                                                  CountEncoder(combine_min_nan_groups=True,\n",
       "                                                               min_group_size=1.0),\n",
       "                                                  [&#x27;product_type&#x27;,\n",
       "                                                   &#x27;vendor&#x27;])])),\n",
       "                (&#x27;scaler&#x27;, StandardScaler()),\n",
       "                (&#x27;reg&#x27;, LogisticRegression(solver=&#x27;newton-cg&#x27;))])</pre></div> </div></div><div class=\"sk-serial\"><div class=\"sk-item\"><div class=\"sk-serial\"><div class=\"sk-item sk-dashed-wrapped\"><div class=\"sk-label-container\"><div class=\"sk-label fitted sk-toggleable\"><input class=\"sk-toggleable__control sk-hidden--visually\" id=\"sk-estimator-id-21\" type=\"checkbox\" ><label for=\"sk-estimator-id-21\" class=\"sk-toggleable__label fitted sk-toggleable__label-arrow fitted\">&nbsp;preprocessor: ColumnTransformer<a class=\"sk-estimator-doc-link fitted\" rel=\"noreferrer\" target=\"_blank\" href=\"https://scikit-learn.org/1.4/modules/generated/sklearn.compose.ColumnTransformer.html\">?<span>Documentation for preprocessor: ColumnTransformer</span></a></label><div class=\"sk-toggleable__content fitted\"><pre>ColumnTransformer(remainder=&#x27;passthrough&#x27;,\n",
       "                  transformers=[(&#x27;encoder&#x27;,\n",
       "                                 CountEncoder(combine_min_nan_groups=True,\n",
       "                                              min_group_size=1.0),\n",
       "                                 [&#x27;product_type&#x27;, &#x27;vendor&#x27;])])</pre></div> </div></div><div class=\"sk-parallel\"><div class=\"sk-parallel-item\"><div class=\"sk-item\"><div class=\"sk-label-container\"><div class=\"sk-label fitted sk-toggleable\"><input class=\"sk-toggleable__control sk-hidden--visually\" id=\"sk-estimator-id-22\" type=\"checkbox\" ><label for=\"sk-estimator-id-22\" class=\"sk-toggleable__label fitted sk-toggleable__label-arrow fitted\">encoder</label><div class=\"sk-toggleable__content fitted\"><pre>[&#x27;product_type&#x27;, &#x27;vendor&#x27;]</pre></div> </div></div><div class=\"sk-serial\"><div class=\"sk-item\"><div class=\"sk-estimator fitted sk-toggleable\"><input class=\"sk-toggleable__control sk-hidden--visually\" id=\"sk-estimator-id-23\" type=\"checkbox\" ><label for=\"sk-estimator-id-23\" class=\"sk-toggleable__label fitted sk-toggleable__label-arrow fitted\">CountEncoder</label><div class=\"sk-toggleable__content fitted\"><pre>CountEncoder(combine_min_nan_groups=True, min_group_size=1.0)</pre></div> </div></div></div></div></div><div class=\"sk-parallel-item\"><div class=\"sk-item\"><div class=\"sk-label-container\"><div class=\"sk-label fitted sk-toggleable\"><input class=\"sk-toggleable__control sk-hidden--visually\" id=\"sk-estimator-id-24\" type=\"checkbox\" ><label for=\"sk-estimator-id-24\" class=\"sk-toggleable__label fitted sk-toggleable__label-arrow fitted\">remainder</label><div class=\"sk-toggleable__content fitted\"><pre></pre></div> </div></div><div class=\"sk-serial\"><div class=\"sk-item\"><div class=\"sk-estimator fitted sk-toggleable\"><input class=\"sk-toggleable__control sk-hidden--visually\" id=\"sk-estimator-id-25\" type=\"checkbox\" ><label for=\"sk-estimator-id-25\" class=\"sk-toggleable__label fitted sk-toggleable__label-arrow fitted\">passthrough</label><div class=\"sk-toggleable__content fitted\"><pre>passthrough</pre></div> </div></div></div></div></div></div></div><div class=\"sk-item\"><div class=\"sk-estimator fitted sk-toggleable\"><input class=\"sk-toggleable__control sk-hidden--visually\" id=\"sk-estimator-id-26\" type=\"checkbox\" ><label for=\"sk-estimator-id-26\" class=\"sk-toggleable__label fitted sk-toggleable__label-arrow fitted\">&nbsp;StandardScaler<a class=\"sk-estimator-doc-link fitted\" rel=\"noreferrer\" target=\"_blank\" href=\"https://scikit-learn.org/1.4/modules/generated/sklearn.preprocessing.StandardScaler.html\">?<span>Documentation for StandardScaler</span></a></label><div class=\"sk-toggleable__content fitted\"><pre>StandardScaler()</pre></div> </div></div><div class=\"sk-item\"><div class=\"sk-estimator fitted sk-toggleable\"><input class=\"sk-toggleable__control sk-hidden--visually\" id=\"sk-estimator-id-27\" type=\"checkbox\" ><label for=\"sk-estimator-id-27\" class=\"sk-toggleable__label fitted sk-toggleable__label-arrow fitted\">&nbsp;LogisticRegression<a class=\"sk-estimator-doc-link fitted\" rel=\"noreferrer\" target=\"_blank\" href=\"https://scikit-learn.org/1.4/modules/generated/sklearn.linear_model.LogisticRegression.html\">?<span>Documentation for LogisticRegression</span></a></label><div class=\"sk-toggleable__content fitted\"><pre>LogisticRegression(solver=&#x27;newton-cg&#x27;)</pre></div> </div></div></div></div></div></div></div></div></div></div></div>"
      ],
      "text/plain": [
       "GridSearchCV(estimator=Pipeline(steps=[('preprocessor',\n",
       "                                        ColumnTransformer(remainder='passthrough',\n",
       "                                                          transformers=[('encoder',\n",
       "                                                                         CountEncoder(combine_min_nan_groups=True,\n",
       "                                                                                      min_group_size=1.0),\n",
       "                                                                         ['product_type',\n",
       "                                                                          'vendor'])])),\n",
       "                                       ('scaler', StandardScaler()),\n",
       "                                       ('reg',\n",
       "                                        LogisticRegression(solver='newton-cg'))]),\n",
       "             param_grid={'reg__C': array([1.e+05, 1.e+04, 1.e+03, 1.e+02, 1.e+01, 1.e+00, 1.e-01, 1.e-02,\n",
       "       1.e-03, 1.e-04])},\n",
       "             return_train_score=True, scoring='f1')"
      ]
     },
     "execution_count": 131,
     "metadata": {},
     "output_type": "execute_result"
    }
   ],
   "source": [
    "pipe = Pipeline([\n",
    "    ('preprocessor', column_transformer),\n",
    "    ('scaler', StandardScaler()),\n",
    "    ('reg', LogisticRegression(solver='newton-cg', penalty='l2'))\n",
    "])\n",
    "\n",
    "\n",
    "reg_values = np.geomspace(0.00001, 1e+4, num=10)\n",
    "parameters = {'reg__C': 1.0/reg_values}\n",
    "\n",
    "gridsearch = GridSearchCV(pipe, parameters,  \n",
    "                          scoring='f1', \n",
    "                          return_train_score=True)\n",
    "\n",
    "gridsearch.fit(X_train, y_train)"
   ]
  },
  {
   "cell_type": "markdown",
   "metadata": {},
   "source": []
  },
  {
   "cell_type": "code",
   "execution_count": 132,
   "metadata": {},
   "outputs": [
    {
     "name": "stdout",
     "output_type": "stream",
     "text": [
      "          C  mean_train_score  mean_test_score\n",
      "9    0.0001          0.080148         0.105789\n",
      "8     0.001          0.114887         0.132144\n",
      "7      0.01          0.116140         0.133191\n",
      "6       0.1          0.116369         0.133254\n",
      "5       1.0          0.116357         0.133630\n",
      "4      10.0          0.116357         0.133630\n",
      "3     100.0          0.116345         0.133630\n",
      "2    1000.0          0.116345         0.133630\n",
      "1   10000.0          0.116345         0.133630\n",
      "0  100000.0          0.116345         0.133630\n"
     ]
    }
   ],
   "source": [
    "import pandas as pd\n",
    "\n",
    "results = pd.DataFrame(gridsearch.cv_results_)\n",
    "\n",
    "results = results[['param_reg__C', 'param_polynomial_features__degree', 'mean_train_score', 'mean_test_score']]\n",
    "results.rename(columns={'param_reg__C': 'C', 'param_polynomial_features__degree': 'Degree'}, inplace=True)\n",
    "\n",
    "results.sort_values(by='mean_test_score', ascending=False, inplace=True)\n",
    "\n",
    "print(results)\n"
   ]
  },
  {
   "cell_type": "code",
   "execution_count": 135,
   "metadata": {},
   "outputs": [
    {
     "name": "stdout",
     "output_type": "stream",
     "text": [
      "Confusion matrix for model with C=1.0:\n",
      "[[68922    99]\n",
      " [  884    56]]\n",
      "\n",
      "Confusion matrix for model with C=10000.0:\n",
      "[[68922    99]\n",
      " [  884    56]]\n"
     ]
    }
   ],
   "source": [
    "model_1 =  Pipeline([\n",
    "    ('preprocessor', column_transformer),\n",
    "    ('scaler', StandardScaler()),\n",
    "    ('reg', LogisticRegression(solver='newton-cg', penalty='l2', C = 1.0))\n",
    "])\n",
    "model_2 = Pipeline([\n",
    "    ('preprocessor', column_transformer),\n",
    "    ('scaler', StandardScaler()),\n",
    "    ('reg', LogisticRegression(solver='newton-cg', penalty='l2', C = 10000.0))\n",
    "])\n",
    "\n",
    "model_1.fit(X_train, y_train)\n",
    "model_2.fit(X_train, y_train)\n",
    "\n",
    "pred_1 = model_1.predict(X_test)\n",
    "pred_2 = model_2.predict(X_test)\n",
    "\n",
    "confusion_1 = confusion_matrix(y_test, pred_1)\n",
    "confusion_2 = confusion_matrix(y_test, pred_2)\n",
    "\n",
    "print(\"Confusion matrix for model with C=1.0:\")\n",
    "print(confusion_1)\n",
    "\n",
    "print(\"\\nConfusion matrix for model with C=10000.0:\")\n",
    "print(confusion_2)"
   ]
  },
  {
   "cell_type": "code",
   "execution_count": 24,
   "metadata": {},
   "outputs": [
    {
     "name": "stdout",
     "output_type": "stream",
     "text": [
      "El mejor valor de lambda es: 1000.0\n",
      "El error en validación sería: 0.035725757386570405\n"
     ]
    }
   ],
   "source": [
    "mejor_estimador=gridsearch.best_estimator_\n",
    "print('El mejor valor de lambda es:', 1/mejor_estimador['reg'].C)\n",
    "print('El error en validación sería:',gridsearch.best_score_) "
   ]
  },
  {
   "cell_type": "code",
   "execution_count": 25,
   "metadata": {},
   "outputs": [
    {
     "name": "stdout",
     "output_type": "stream",
     "text": [
      "El Fscore en test del mejor modelo es 12.92\n",
      "[[   56   644]\n",
      " [  111 48476]]\n"
     ]
    }
   ],
   "source": [
    "# Se obtiene el mejor modelo y se evalua su calidad\n",
    "bestMethod = gridsearch.best_estimator_\n",
    "prediccion_test = bestMethod.predict(X_test)\n",
    "fscore_test = metrics.f1_score(y_test, prediccion_test)*100\n",
    "\n",
    "print('El Fscore en test del mejor modelo es {:.2f}'.format(fscore_test))\n",
    "print(metrics.confusion_matrix(y_test, prediccion_test, labels=[1,0]))\n",
    "# La clase positiva no funciona bien, por eso el fscore es bajo"
   ]
  }
 ],
 "metadata": {
  "kernelspec": {
   "display_name": "zrive-ds-TXjvcAVs-py3.11",
   "language": "python",
   "name": "python3"
  },
  "language_info": {
   "codemirror_mode": {
    "name": "ipython",
    "version": 3
   },
   "file_extension": ".py",
   "mimetype": "text/x-python",
   "name": "python",
   "nbconvert_exporter": "python",
   "pygments_lexer": "ipython3",
   "version": "3.11.0"
  }
 },
 "nbformat": 4,
 "nbformat_minor": 2
}
